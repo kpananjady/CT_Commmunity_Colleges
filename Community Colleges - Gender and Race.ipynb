{
 "cells": [
  {
   "cell_type": "markdown",
   "metadata": {},
   "source": [
    "# What this file does"
   ]
  },
  {
   "cell_type": "markdown",
   "metadata": {},
   "source": [
    "It shows the historical breakdown of race over the past 10 years at community colleges in CT. "
   ]
  },
  {
   "cell_type": "markdown",
   "metadata": {},
   "source": [
    "# Findings"
   ]
  },
  {
   "cell_type": "markdown",
   "metadata": {},
   "source": [
    "The overall population in CCs has decreased, largely driven by the drop in white students in that period.\n",
    "\n",
    "But this year, the drop in enrollment is primarily driven by a drop in Hispanic enrollees, followed by Black enrollees.\n",
    "\n",
    "The drop in Hispanic enrollment at present comes after a decade comprising mostly of increases in their enrollment. The drop in Black enrollment at present comes after decreases in enrollment in recent years."
   ]
  },
  {
   "cell_type": "markdown",
   "metadata": {},
   "source": [
    "# Tools"
   ]
  },
  {
   "cell_type": "code",
   "execution_count": null,
   "metadata": {},
   "outputs": [],
   "source": [
    "import pandas as pd"
   ]
  },
  {
   "cell_type": "markdown",
   "metadata": {},
   "source": [
    "# Read race data and clean it"
   ]
  },
  {
   "cell_type": "markdown",
   "metadata": {},
   "source": [
    "Only from 2010 onwards bc the categories avaliable changed with the 2010 census. "
   ]
  },
  {
   "cell_type": "code",
   "execution_count": 2,
   "metadata": {},
   "outputs": [],
   "source": [
    "df = pd.read_csv('community_colleges_race_gender.csv')"
   ]
  },
  {
   "cell_type": "code",
   "execution_count": 3,
   "metadata": {},
   "outputs": [],
   "source": [
    "new_df = df.melt(id_vars=['Institution Name', 'UnitID'])"
   ]
  },
  {
   "cell_type": "code",
   "execution_count": 4,
   "metadata": {},
   "outputs": [],
   "source": [
    "new_df['Year'] = new_df.variable.str.extract(r'.*EF(\\d\\d\\d\\d)').astype(float)"
   ]
  },
  {
   "cell_type": "code",
   "execution_count": 13,
   "metadata": {},
   "outputs": [
    {
     "data": {
      "text/html": [
       "<div>\n",
       "<style scoped>\n",
       "    .dataframe tbody tr th:only-of-type {\n",
       "        vertical-align: middle;\n",
       "    }\n",
       "\n",
       "    .dataframe tbody tr th {\n",
       "        vertical-align: top;\n",
       "    }\n",
       "\n",
       "    .dataframe thead th {\n",
       "        text-align: right;\n",
       "    }\n",
       "</style>\n",
       "<table border=\"1\" class=\"dataframe\">\n",
       "  <thead>\n",
       "    <tr style=\"text-align: right;\">\n",
       "      <th></th>\n",
       "      <th>Institution Name</th>\n",
       "      <th>UnitID</th>\n",
       "      <th>variable</th>\n",
       "      <th>value</th>\n",
       "      <th>Year</th>\n",
       "    </tr>\n",
       "  </thead>\n",
       "  <tbody>\n",
       "    <tr>\n",
       "      <th>0</th>\n",
       "      <td>Asnuntuck Community College</td>\n",
       "      <td>128577</td>\n",
       "      <td>Grand total (EF2018A  All students total)</td>\n",
       "      <td>1858.0</td>\n",
       "      <td>2018.0</td>\n",
       "    </tr>\n",
       "    <tr>\n",
       "      <th>1</th>\n",
       "      <td>Capital Community College</td>\n",
       "      <td>129367</td>\n",
       "      <td>Grand total (EF2018A  All students total)</td>\n",
       "      <td>3290.0</td>\n",
       "      <td>2018.0</td>\n",
       "    </tr>\n",
       "    <tr>\n",
       "      <th>2</th>\n",
       "      <td>Gateway Community College</td>\n",
       "      <td>130396</td>\n",
       "      <td>Grand total (EF2018A  All students total)</td>\n",
       "      <td>7016.0</td>\n",
       "      <td>2018.0</td>\n",
       "    </tr>\n",
       "    <tr>\n",
       "      <th>3</th>\n",
       "      <td>Housatonic Community College</td>\n",
       "      <td>129543</td>\n",
       "      <td>Grand total (EF2018A  All students total)</td>\n",
       "      <td>5012.0</td>\n",
       "      <td>2018.0</td>\n",
       "    </tr>\n",
       "    <tr>\n",
       "      <th>4</th>\n",
       "      <td>Manchester Community College</td>\n",
       "      <td>129695</td>\n",
       "      <td>Grand total (EF2018A  All students total)</td>\n",
       "      <td>6003.0</td>\n",
       "      <td>2018.0</td>\n",
       "    </tr>\n",
       "    <tr>\n",
       "      <th>...</th>\n",
       "      <td>...</td>\n",
       "      <td>...</td>\n",
       "      <td>...</td>\n",
       "      <td>...</td>\n",
       "      <td>...</td>\n",
       "    </tr>\n",
       "    <tr>\n",
       "      <th>331</th>\n",
       "      <td>Northwestern Connecticut Community College</td>\n",
       "      <td>130040</td>\n",
       "      <td>Nonresident alien women (EF2018A  All students...</td>\n",
       "      <td>0.0</td>\n",
       "      <td>2018.0</td>\n",
       "    </tr>\n",
       "    <tr>\n",
       "      <th>332</th>\n",
       "      <td>Norwalk Community College</td>\n",
       "      <td>130004</td>\n",
       "      <td>Nonresident alien women (EF2018A  All students...</td>\n",
       "      <td>91.0</td>\n",
       "      <td>2018.0</td>\n",
       "    </tr>\n",
       "    <tr>\n",
       "      <th>333</th>\n",
       "      <td>Quinebaug Valley Community College</td>\n",
       "      <td>130217</td>\n",
       "      <td>Nonresident alien women (EF2018A  All students...</td>\n",
       "      <td>0.0</td>\n",
       "      <td>2018.0</td>\n",
       "    </tr>\n",
       "    <tr>\n",
       "      <th>334</th>\n",
       "      <td>Three Rivers Community College</td>\n",
       "      <td>129808</td>\n",
       "      <td>Nonresident alien women (EF2018A  All students...</td>\n",
       "      <td>7.0</td>\n",
       "      <td>2018.0</td>\n",
       "    </tr>\n",
       "    <tr>\n",
       "      <th>335</th>\n",
       "      <td>Tunxis Community College</td>\n",
       "      <td>130606</td>\n",
       "      <td>Nonresident alien women (EF2018A  All students...</td>\n",
       "      <td>14.0</td>\n",
       "      <td>2018.0</td>\n",
       "    </tr>\n",
       "  </tbody>\n",
       "</table>\n",
       "<p>336 rows × 5 columns</p>\n",
       "</div>"
      ],
      "text/plain": [
       "                               Institution Name  UnitID  \\\n",
       "0                   Asnuntuck Community College  128577   \n",
       "1                     Capital Community College  129367   \n",
       "2                     Gateway Community College  130396   \n",
       "3                  Housatonic Community College  129543   \n",
       "4                  Manchester Community College  129695   \n",
       "..                                          ...     ...   \n",
       "331  Northwestern Connecticut Community College  130040   \n",
       "332                   Norwalk Community College  130004   \n",
       "333          Quinebaug Valley Community College  130217   \n",
       "334              Three Rivers Community College  129808   \n",
       "335                    Tunxis Community College  130606   \n",
       "\n",
       "                                              variable   value    Year  \n",
       "0            Grand total (EF2018A  All students total)  1858.0  2018.0  \n",
       "1            Grand total (EF2018A  All students total)  3290.0  2018.0  \n",
       "2            Grand total (EF2018A  All students total)  7016.0  2018.0  \n",
       "3            Grand total (EF2018A  All students total)  5012.0  2018.0  \n",
       "4            Grand total (EF2018A  All students total)  6003.0  2018.0  \n",
       "..                                                 ...     ...     ...  \n",
       "331  Nonresident alien women (EF2018A  All students...     0.0  2018.0  \n",
       "332  Nonresident alien women (EF2018A  All students...    91.0  2018.0  \n",
       "333  Nonresident alien women (EF2018A  All students...     0.0  2018.0  \n",
       "334  Nonresident alien women (EF2018A  All students...     7.0  2018.0  \n",
       "335  Nonresident alien women (EF2018A  All students...    14.0  2018.0  \n",
       "\n",
       "[336 rows x 5 columns]"
      ]
     },
     "execution_count": 13,
     "metadata": {},
     "output_type": "execute_result"
    }
   ],
   "source": [
    "new_df[new_df['Year']==2018]"
   ]
  },
  {
   "cell_type": "markdown",
   "metadata": {},
   "source": [
    "# Asian"
   ]
  },
  {
   "cell_type": "code",
   "execution_count": 72,
   "metadata": {},
   "outputs": [],
   "source": [
    "df_asian = pd.DataFrame(new_df[new_df['variable'].str.contains('Asian total')==True].groupby(by='Year')['value'].sum()).rename(columns = \n",
    "                                                                                                                   {\n",
    "                                                                                                                       'value': 'Asian total'})\n",
    "df_asian.to_csv('asian_enrollment.csv')                                                                                                                   "
   ]
  },
  {
   "cell_type": "code",
   "execution_count": 24,
   "metadata": {},
   "outputs": [
    {
     "data": {
      "text/plain": [
       "<AxesSubplot:xlabel='Year'>"
      ]
     },
     "execution_count": 24,
     "metadata": {},
     "output_type": "execute_result"
    },
    {
     "data": {
      "image/png": "[encoded data removed]",
      "text/plain": [
       "<Figure size 432x288 with 1 Axes>"
      ]
     },
     "metadata": {
      "needs_background": "light"
     },
     "output_type": "display_data"
    }
   ],
   "source": [
    "new_df[new_df['variable'].str.contains('Asian total')==True].groupby(by='Year')['value'].sum().plot(kind='bar')"
   ]
  },
  {
   "cell_type": "markdown",
   "metadata": {},
   "source": [
    "# White"
   ]
  },
  {
   "cell_type": "code",
   "execution_count": 73,
   "metadata": {},
   "outputs": [],
   "source": [
    "df_white = pd.DataFrame(new_df[new_df['variable'].str.contains('White total')==True].groupby(by='Year')['value'].sum()).rename(columns = \n",
    "                                                                                                                   {\n",
    "                                                                                                                       'value': 'White total'})\n",
    "\n",
    "df_white.to_csv('white_enrollment.csv')                                                        "
   ]
  },
  {
   "cell_type": "code",
   "execution_count": 25,
   "metadata": {},
   "outputs": [
    {
     "data": {
      "text/plain": [
       "<AxesSubplot:xlabel='Year'>"
      ]
     },
     "execution_count": 25,
     "metadata": {},
     "output_type": "execute_result"
    },
    {
     "data": {
      "image/png": "[encoded data removed]",
      "text/plain": [
       "<Figure size 432x288 with 1 Axes>"
      ]
     },
     "metadata": {
      "needs_background": "light"
     },
     "output_type": "display_data"
    }
   ],
   "source": [
    "new_df[new_df['variable'].str.contains('White total')==True].groupby(by='Year')['value'].sum().plot(kind='bar')"
   ]
  },
  {
   "cell_type": "markdown",
   "metadata": {},
   "source": [
    "# Black"
   ]
  },
  {
   "cell_type": "code",
   "execution_count": 74,
   "metadata": {},
   "outputs": [],
   "source": [
    "df_black = pd.DataFrame(new_df[new_df['variable'].str.contains('African American total')==True].groupby(by='Year')['value'].sum()).rename(columns = \n",
    "                                                                                                                   {\n",
    "                                                                                                                       'value': 'Black total'})\n",
    "\n",
    "df_black.to_csv('black_enrollment.csv')                                                        "
   ]
  },
  {
   "cell_type": "code",
   "execution_count": 22,
   "metadata": {},
   "outputs": [
    {
     "data": {
      "text/plain": [
       "<AxesSubplot:xlabel='Year'>"
      ]
     },
     "execution_count": 22,
     "metadata": {},
     "output_type": "execute_result"
    },
    {
     "data": {
      "image/png": "[encoded data removed]",
      "text/plain": [
       "<Figure size 432x288 with 1 Axes>"
      ]
     },
     "metadata": {
      "needs_background": "light"
     },
     "output_type": "display_data"
    }
   ],
   "source": [
    "new_df[new_df['variable'].str.contains('African American total')==True].groupby(by='Year')['value'].sum().plot(kind='bar')"
   ]
  },
  {
   "cell_type": "markdown",
   "metadata": {},
   "source": [
    "# Hispanic"
   ]
  },
  {
   "cell_type": "code",
   "execution_count": 75,
   "metadata": {},
   "outputs": [],
   "source": [
    "df_hisp = pd.DataFrame(new_df[new_df['variable'].str.contains('Hispanic total')==True].groupby(by='Year')['value'].sum()).rename(columns = \n",
    "                                                                                                                   {\n",
    "                                                                                                                       'value': 'Hispanic total'})\n",
    "\n",
    "df_hisp.to_csv('hisp_enrollment.csv')                                                        "
   ]
  },
  {
   "cell_type": "code",
   "execution_count": 21,
   "metadata": {},
   "outputs": [
    {
     "data": {
      "text/plain": [
       "<AxesSubplot:xlabel='Year'>"
      ]
     },
     "execution_count": 21,
     "metadata": {},
     "output_type": "execute_result"
    },
    {
     "data": {
      "image/png": "[encoded data removed]",
      "text/plain": [
       "<Figure size 432x288 with 1 Axes>"
      ]
     },
     "metadata": {
      "needs_background": "light"
     },
     "output_type": "display_data"
    }
   ],
   "source": [
    "new_df[new_df['variable'].str.contains('Hispanic total')==True].groupby(by='Year')['value'].sum().plot(kind='bar')"
   ]
  },
  {
   "cell_type": "markdown",
   "metadata": {},
   "source": [
    "# Further cleaning"
   ]
  },
  {
   "cell_type": "markdown",
   "metadata": {},
   "source": [
    "Added 2019 data from https://www.ct.edu/files/opr/WEB%20Enrollment-by-Race-Ethnicity-through-F2019.pdf essentially manually bc easier than scraping"
   ]
  },
  {
   "cell_type": "markdown",
   "metadata": {},
   "source": [
    "# Calculating percentages"
   ]
  },
  {
   "cell_type": "code",
   "execution_count": 110,
   "metadata": {},
   "outputs": [],
   "source": [
    "df_all = pd.DataFrame(new_df[new_df['variable'].str.contains('Grand total')==True].groupby(by='Year')['value'].sum()).rename(columns = \n",
    "                                                                                                                   {\n",
    "                                                                                                                       'value': 'total'})\n",
    "\n",
    "df_all.to_csv('all_enrollment.csv')                                                        "
   ]
  },
  {
   "cell_type": "code",
   "execution_count": 20,
   "metadata": {},
   "outputs": [
    {
     "data": {
      "text/plain": [
       "<AxesSubplot:xlabel='Year'>"
      ]
     },
     "execution_count": 20,
     "metadata": {},
     "output_type": "execute_result"
    },
    {
     "data": {
      "image/png": "[encoded data removed]",
      "text/plain": [
       "<Figure size 432x288 with 1 Axes>"
      ]
     },
     "metadata": {
      "needs_background": "light"
     },
     "output_type": "display_data"
    }
   ],
   "source": [
    "new_df[new_df['variable'].str.contains('Grand total')==True].groupby(by='Year')['value'].sum().plot(kind='bar')"
   ]
  },
  {
   "cell_type": "code",
   "execution_count": 131,
   "metadata": {},
   "outputs": [],
   "source": [
    "df_asian = pd.read_csv('asian_enrollment.csv')"
   ]
  },
  {
   "cell_type": "code",
   "execution_count": 132,
   "metadata": {},
   "outputs": [],
   "source": [
    "df_white = pd.read_csv('white_enrollment.csv')"
   ]
  },
  {
   "cell_type": "code",
   "execution_count": 133,
   "metadata": {},
   "outputs": [],
   "source": [
    "df_black = pd.read_csv('black_enrollment.csv')"
   ]
  },
  {
   "cell_type": "code",
   "execution_count": 134,
   "metadata": {},
   "outputs": [],
   "source": [
    "df_hisp = pd.read_csv('hisp_enrollment.csv')"
   ]
  },
  {
   "cell_type": "code",
   "execution_count": 135,
   "metadata": {},
   "outputs": [],
   "source": [
    "df_all = pd.read_csv('all_enrollment.csv')"
   ]
  },
  {
   "cell_type": "code",
   "execution_count": 136,
   "metadata": {},
   "outputs": [],
   "source": [
    "df_asian = df_asian.merge(df_all, left_on='Year', right_on='Year')"
   ]
  },
  {
   "cell_type": "code",
   "execution_count": 137,
   "metadata": {},
   "outputs": [],
   "source": [
    "df_white = df_white.merge(df_all, left_on='Year', right_on='Year')"
   ]
  },
  {
   "cell_type": "code",
   "execution_count": 138,
   "metadata": {},
   "outputs": [],
   "source": [
    "df_black = df_black.merge(df_all, left_on='Year', right_on='Year')"
   ]
  },
  {
   "cell_type": "code",
   "execution_count": 139,
   "metadata": {},
   "outputs": [],
   "source": [
    "df_hisp = df_hisp.merge(df_all, left_on='Year', right_on='Year')"
   ]
  },
  {
   "cell_type": "code",
   "execution_count": 140,
   "metadata": {},
   "outputs": [],
   "source": [
    "df_asian['%_asian'] = 100*df_asian['Asian total']/df_asian['total']"
   ]
  },
  {
   "cell_type": "code",
   "execution_count": 141,
   "metadata": {},
   "outputs": [],
   "source": [
    "df_white['%_white'] = 100*df_white['White total']/df_white['total']"
   ]
  },
  {
   "cell_type": "code",
   "execution_count": 142,
   "metadata": {},
   "outputs": [],
   "source": [
    "df_black['%_black'] = 100*df_black['Black total']/df_black['total']"
   ]
  },
  {
   "cell_type": "code",
   "execution_count": 143,
   "metadata": {},
   "outputs": [],
   "source": [
    "df_hisp['%_hisp'] = 100*df_hisp['Hispanic total']/df_hisp['total']"
   ]
  },
  {
   "cell_type": "code",
   "execution_count": 150,
   "metadata": {},
   "outputs": [],
   "source": [
    "df_final_2 = df_asian.merge(df_white, left_on='Year', right_on='Year').merge(df_black, left_on='Year', right_on='Year').merge(df_hisp, left_on='Year', right_on='Year')"
   ]
  },
  {
   "cell_type": "code",
   "execution_count": 151,
   "metadata": {},
   "outputs": [],
   "source": [
    "df_final = df_final_2[['Year','%_white', '%_black', '%_hisp', '%_asian']]"
   ]
  },
  {
   "cell_type": "markdown",
   "metadata": {},
   "source": [
    "# Racial composition over time"
   ]
  },
  {
   "cell_type": "code",
   "execution_count": 148,
   "metadata": {},
   "outputs": [
    {
     "data": {
      "text/plain": [
       "[<matplotlib.axis.XTick at 0x1129d2b70>,\n",
       " <matplotlib.axis.XTick at 0x1129d2748>,\n",
       " <matplotlib.axis.XTick at 0x1129a66a0>,\n",
       " <matplotlib.axis.XTick at 0x112a7a710>,\n",
       " <matplotlib.axis.XTick at 0x112a7aba8>,\n",
       " <matplotlib.axis.XTick at 0x112a86080>,\n",
       " <matplotlib.axis.XTick at 0x112a86518>,\n",
       " <matplotlib.axis.XTick at 0x1129d2390>,\n",
       " <matplotlib.axis.XTick at 0x112a7ad68>,\n",
       " <matplotlib.axis.XTick at 0x112a86358>]"
      ]
     },
     "execution_count": 148,
     "metadata": {},
     "output_type": "execute_result"
    },
    {
     "data": {
      "image/png": "[encoded data removed]",
      "text/plain": [
       "<Figure size 432x288 with 1 Axes>"
      ]
     },
     "metadata": {
      "needs_background": "light"
     },
     "output_type": "display_data"
    }
   ],
   "source": [
    "ax = df_final.plot.area(x='Year')\n",
    "ax.set_xticks([2010, 2011, 2012, 2013, 2014, 2015, 2016, 2017, 2018,2019])"
   ]
  },
  {
   "cell_type": "code",
   "execution_count": 157,
   "metadata": {},
   "outputs": [
    {
     "data": {
      "text/html": [
       "<div>\n",
       "<style scoped>\n",
       "    .dataframe tbody tr th:only-of-type {\n",
       "        vertical-align: middle;\n",
       "    }\n",
       "\n",
       "    .dataframe tbody tr th {\n",
       "        vertical-align: top;\n",
       "    }\n",
       "\n",
       "    .dataframe thead th {\n",
       "        text-align: right;\n",
       "    }\n",
       "</style>\n",
       "<table border=\"1\" class=\"dataframe\">\n",
       "  <thead>\n",
       "    <tr style=\"text-align: right;\">\n",
       "      <th></th>\n",
       "      <th>Year</th>\n",
       "      <th>Asian total</th>\n",
       "      <th>%_asian</th>\n",
       "      <th>White total</th>\n",
       "      <th>total</th>\n",
       "      <th>%_white</th>\n",
       "      <th>Black total</th>\n",
       "      <th>%_black</th>\n",
       "      <th>Hispanic total</th>\n",
       "      <th>total</th>\n",
       "      <th>%_hisp</th>\n",
       "    </tr>\n",
       "  </thead>\n",
       "  <tbody>\n",
       "    <tr>\n",
       "      <th>0</th>\n",
       "      <td>2010.0</td>\n",
       "      <td>1727.0</td>\n",
       "      <td>2.964654</td>\n",
       "      <td>31005.0</td>\n",
       "      <td>58253.0</td>\n",
       "      <td>53.224727</td>\n",
       "      <td>8537.0</td>\n",
       "      <td>14.655039</td>\n",
       "      <td>9815.0</td>\n",
       "      <td>58253.0</td>\n",
       "      <td>16.848918</td>\n",
       "    </tr>\n",
       "    <tr>\n",
       "      <th>1</th>\n",
       "      <td>2011.0</td>\n",
       "      <td>1773.0</td>\n",
       "      <td>3.074176</td>\n",
       "      <td>30753.0</td>\n",
       "      <td>57674.0</td>\n",
       "      <td>53.322121</td>\n",
       "      <td>8648.0</td>\n",
       "      <td>14.994625</td>\n",
       "      <td>10542.0</td>\n",
       "      <td>57674.0</td>\n",
       "      <td>18.278600</td>\n",
       "    </tr>\n",
       "    <tr>\n",
       "      <th>2</th>\n",
       "      <td>2012.0</td>\n",
       "      <td>1960.0</td>\n",
       "      <td>3.366078</td>\n",
       "      <td>30523.0</td>\n",
       "      <td>58228.0</td>\n",
       "      <td>52.419798</td>\n",
       "      <td>9343.0</td>\n",
       "      <td>16.045545</td>\n",
       "      <td>11477.0</td>\n",
       "      <td>58228.0</td>\n",
       "      <td>19.710449</td>\n",
       "    </tr>\n",
       "    <tr>\n",
       "      <th>3</th>\n",
       "      <td>2013.0</td>\n",
       "      <td>1969.0</td>\n",
       "      <td>3.455780</td>\n",
       "      <td>29524.0</td>\n",
       "      <td>56977.0</td>\n",
       "      <td>51.817400</td>\n",
       "      <td>9400.0</td>\n",
       "      <td>16.497885</td>\n",
       "      <td>11832.0</td>\n",
       "      <td>56977.0</td>\n",
       "      <td>20.766274</td>\n",
       "    </tr>\n",
       "    <tr>\n",
       "      <th>4</th>\n",
       "      <td>2014.0</td>\n",
       "      <td>2010.0</td>\n",
       "      <td>3.644341</td>\n",
       "      <td>27547.0</td>\n",
       "      <td>55154.0</td>\n",
       "      <td>49.945607</td>\n",
       "      <td>9520.0</td>\n",
       "      <td>17.260761</td>\n",
       "      <td>11996.0</td>\n",
       "      <td>55154.0</td>\n",
       "      <td>21.750009</td>\n",
       "    </tr>\n",
       "    <tr>\n",
       "      <th>5</th>\n",
       "      <td>2015.0</td>\n",
       "      <td>1944.0</td>\n",
       "      <td>3.684540</td>\n",
       "      <td>25996.0</td>\n",
       "      <td>52761.0</td>\n",
       "      <td>49.271242</td>\n",
       "      <td>8946.0</td>\n",
       "      <td>16.955706</td>\n",
       "      <td>11998.0</td>\n",
       "      <td>52761.0</td>\n",
       "      <td>22.740282</td>\n",
       "    </tr>\n",
       "    <tr>\n",
       "      <th>6</th>\n",
       "      <td>2016.0</td>\n",
       "      <td>1926.0</td>\n",
       "      <td>3.810240</td>\n",
       "      <td>23994.0</td>\n",
       "      <td>50548.0</td>\n",
       "      <td>47.467753</td>\n",
       "      <td>8556.0</td>\n",
       "      <td>16.926486</td>\n",
       "      <td>12315.0</td>\n",
       "      <td>50548.0</td>\n",
       "      <td>24.362982</td>\n",
       "    </tr>\n",
       "    <tr>\n",
       "      <th>7</th>\n",
       "      <td>2017.0</td>\n",
       "      <td>1877.0</td>\n",
       "      <td>3.801134</td>\n",
       "      <td>22878.0</td>\n",
       "      <td>49380.0</td>\n",
       "      <td>46.330498</td>\n",
       "      <td>8584.0</td>\n",
       "      <td>17.383556</td>\n",
       "      <td>12526.0</td>\n",
       "      <td>49380.0</td>\n",
       "      <td>25.366545</td>\n",
       "    </tr>\n",
       "    <tr>\n",
       "      <th>8</th>\n",
       "      <td>2018.0</td>\n",
       "      <td>1970.0</td>\n",
       "      <td>4.111962</td>\n",
       "      <td>21661.0</td>\n",
       "      <td>47909.0</td>\n",
       "      <td>45.212799</td>\n",
       "      <td>8494.0</td>\n",
       "      <td>17.729445</td>\n",
       "      <td>12315.0</td>\n",
       "      <td>47909.0</td>\n",
       "      <td>25.704982</td>\n",
       "    </tr>\n",
       "    <tr>\n",
       "      <th>9</th>\n",
       "      <td>2019.0</td>\n",
       "      <td>1821.0</td>\n",
       "      <td>4.033401</td>\n",
       "      <td>19742.0</td>\n",
       "      <td>45148.0</td>\n",
       "      <td>43.727297</td>\n",
       "      <td>7959.0</td>\n",
       "      <td>17.628688</td>\n",
       "      <td>12419.0</td>\n",
       "      <td>45148.0</td>\n",
       "      <td>27.507309</td>\n",
       "    </tr>\n",
       "  </tbody>\n",
       "</table>\n",
       "</div>"
      ],
      "text/plain": [
       "     Year  Asian total   %_asian  White total    total    %_white  \\\n",
       "0  2010.0       1727.0  2.964654      31005.0  58253.0  53.224727   \n",
       "1  2011.0       1773.0  3.074176      30753.0  57674.0  53.322121   \n",
       "2  2012.0       1960.0  3.366078      30523.0  58228.0  52.419798   \n",
       "3  2013.0       1969.0  3.455780      29524.0  56977.0  51.817400   \n",
       "4  2014.0       2010.0  3.644341      27547.0  55154.0  49.945607   \n",
       "5  2015.0       1944.0  3.684540      25996.0  52761.0  49.271242   \n",
       "6  2016.0       1926.0  3.810240      23994.0  50548.0  47.467753   \n",
       "7  2017.0       1877.0  3.801134      22878.0  49380.0  46.330498   \n",
       "8  2018.0       1970.0  4.111962      21661.0  47909.0  45.212799   \n",
       "9  2019.0       1821.0  4.033401      19742.0  45148.0  43.727297   \n",
       "\n",
       "   Black total    %_black  Hispanic total    total     %_hisp  \n",
       "0       8537.0  14.655039          9815.0  58253.0  16.848918  \n",
       "1       8648.0  14.994625         10542.0  57674.0  18.278600  \n",
       "2       9343.0  16.045545         11477.0  58228.0  19.710449  \n",
       "3       9400.0  16.497885         11832.0  56977.0  20.766274  \n",
       "4       9520.0  17.260761         11996.0  55154.0  21.750009  \n",
       "5       8946.0  16.955706         11998.0  52761.0  22.740282  \n",
       "6       8556.0  16.926486         12315.0  50548.0  24.362982  \n",
       "7       8584.0  17.383556         12526.0  49380.0  25.366545  \n",
       "8       8494.0  17.729445         12315.0  47909.0  25.704982  \n",
       "9       7959.0  17.628688         12419.0  45148.0  27.507309  "
      ]
     },
     "execution_count": 157,
     "metadata": {},
     "output_type": "execute_result"
    }
   ],
   "source": [
    "df_final_2.drop(columns={'total_x'}).rename(columns={'total_y':'total'}).drop_duplicates(subset=['total'], keep='last')"
   ]
  },
  {
   "cell_type": "markdown",
   "metadata": {},
   "source": [
    "# % decrease within races"
   ]
  },
  {
   "cell_type": "code",
   "execution_count": null,
   "metadata": {},
   "outputs": [],
   "source": [
    "#What we know:\n",
    "#17% decline in Black students -> -1353 -> leaves us with 6924 (approx)\n",
    "#16% decline in Latino students -> -1987 -> 10432 (approx)\n",
    "#11% decline overall -> -4966 students -> 40182\n",
    "\n",
    "# => (White population cannot have decreased by more than 13%)\n",
    "# => Decrease in overall enrollment this year is driven by decreased Hispanic enrollees, followed by Blakc enrolles"
   ]
  },
  {
   "cell_type": "code",
   "execution_count": 162,
   "metadata": {},
   "outputs": [],
   "source": [
    "df_black['pct_change_black'] = 100*df_black['Black total'].pct_change()"
   ]
  },
  {
   "cell_type": "code",
   "execution_count": 163,
   "metadata": {},
   "outputs": [],
   "source": [
    "df_hisp['pct_change_hisp'] = 100*df_hisp['Hispanic total'].pct_change()"
   ]
  },
  {
   "cell_type": "markdown",
   "metadata": {},
   "source": [
    "# Hispanic % change historically"
   ]
  },
  {
   "cell_type": "markdown",
   "metadata": {},
   "source": [
    "Drop in Hispanic enrollment at present comes after a decade comprising mostly of increases in their enrollment."
   ]
  },
  {
   "cell_type": "code",
   "execution_count": 164,
   "metadata": {},
   "outputs": [
    {
     "data": {
      "text/plain": [
       "<AxesSubplot:xlabel='Year'>"
      ]
     },
     "execution_count": 164,
     "metadata": {},
     "output_type": "execute_result"
    },
    {
     "data": {
      "image/png": "[encoded data removed]",
      "text/plain": [
       "<Figure size 432x288 with 1 Axes>"
      ]
     },
     "metadata": {
      "needs_background": "light"
     },
     "output_type": "display_data"
    }
   ],
   "source": [
    "df_hisp.plot(x='Year', y='pct_change_hisp', kind='bar')"
   ]
  },
  {
   "cell_type": "markdown",
   "metadata": {},
   "source": [
    "# Black % change historically"
   ]
  },
  {
   "cell_type": "markdown",
   "metadata": {},
   "source": [
    "Drop in Black enrollment at present comes after drops in enrollment in recent years."
   ]
  },
  {
   "cell_type": "code",
   "execution_count": 165,
   "metadata": {},
   "outputs": [
    {
     "data": {
      "text/plain": [
       "<AxesSubplot:xlabel='Year'>"
      ]
     },
     "execution_count": 165,
     "metadata": {},
     "output_type": "execute_result"
    },
    {
     "data": {
      "image/png": "[encoded data removed]",
      "text/plain": [
       "<Figure size 432x288 with 1 Axes>"
      ]
     },
     "metadata": {
      "needs_background": "light"
     },
     "output_type": "display_data"
    }
   ],
   "source": [
    "df_black.plot(x='Year', y='pct_change_black', kind='bar')"
   ]
  }
 ],
 "metadata": {
  "kernelspec": {
   "display_name": "Python 3",
   "language": "python",
   "name": "python3"
  },
  "language_info": {
   "codemirror_mode": {
    "name": "ipython",
    "version": 3
   },
   "file_extension": ".py",
   "mimetype": "text/x-python",
   "name": "python",
   "nbconvert_exporter": "python",
   "pygments_lexer": "ipython3",
   "version": "3.7.1"
  }
 },
 "nbformat": 4,
 "nbformat_minor": 4
}
