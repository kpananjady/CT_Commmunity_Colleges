{
 "cells": [
  {
   "cell_type": "markdown",
   "metadata": {},
   "source": [
    "# What this file does"
   ]
  },
  {
   "cell_type": "markdown",
   "metadata": {},
   "source": [
    "It shows the historical breakdown of race over the past 10 years at community colleges in CT of all students in the Fall Enrollment survey. "
   ]
  },
  {
   "cell_type": "markdown",
   "metadata": {},
   "source": [
    "# Findings"
   ]
  },
  {
   "cell_type": "markdown",
   "metadata": {},
   "source": [
    "The overall population in CCs has decreased, largely driven by the drop in white students in that period.\n",
    "\n",
    "But this year, the drop in white enrollment is compounded by a drop in Hispanic enrollees, followed by Black enrollees, resulting in a drop of %15 among all students.\n",
    "\n",
    "The drop in Hispanic enrollment at present comes after a decade comprising mostly of increases in their enrollment. \n",
    "\n",
    "The drop in Black enrollment at present comes after decreases in enrollment in recent years."
   ]
  },
  {
   "cell_type": "markdown",
   "metadata": {},
   "source": [
    "# Tools"
   ]
  },
  {
   "cell_type": "code",
   "execution_count": 1,
   "metadata": {},
   "outputs": [],
   "source": [
    "import pandas as pd"
   ]
  },
  {
   "cell_type": "markdown",
   "metadata": {},
   "source": [
    "# Read race data and clean it"
   ]
  },
  {
   "cell_type": "markdown",
   "metadata": {},
   "source": [
    "Only from 2010 onwards bc the categories avaliable changed with the 2010 census. "
   ]
  },
  {
   "cell_type": "code",
   "execution_count": 2,
   "metadata": {},
   "outputs": [],
   "source": [
    "df = pd.read_csv('community_colleges_race_gender.csv')"
   ]
  },
  {
   "cell_type": "code",
   "execution_count": 3,
   "metadata": {},
   "outputs": [
    {
     "data": {
      "text/html": [
       "<div>\n",
       "<style scoped>\n",
       "    .dataframe tbody tr th:only-of-type {\n",
       "        vertical-align: middle;\n",
       "    }\n",
       "\n",
       "    .dataframe tbody tr th {\n",
       "        vertical-align: top;\n",
       "    }\n",
       "\n",
       "    .dataframe thead th {\n",
       "        text-align: right;\n",
       "    }\n",
       "</style>\n",
       "<table border=\"1\" class=\"dataframe\">\n",
       "  <thead>\n",
       "    <tr style=\"text-align: right;\">\n",
       "      <th></th>\n",
       "      <th>UnitID</th>\n",
       "      <th>Institution Name</th>\n",
       "      <th>Grand total (EF2018  All students total)</th>\n",
       "      <th>Grand total (EF2017  All students total)</th>\n",
       "      <th>Grand total (EF2016  All students total)</th>\n",
       "      <th>Grand total (EF2015  All students total)</th>\n",
       "      <th>Grand total (EF2014  All students total)</th>\n",
       "      <th>Grand total (EF2013  All students total)</th>\n",
       "      <th>Grand total (EF2012  All students total)</th>\n",
       "      <th>Grand total (EF2011  All students total)</th>\n",
       "      <th>...</th>\n",
       "      <th>Black or African American total (EF2011A  All students total)</th>\n",
       "      <th>Hispanic total (EF2011A  All students total)</th>\n",
       "      <th>White total (EF2011A  All students total)</th>\n",
       "      <th>Grand total (EF2011A  All students total)</th>\n",
       "      <th>Asian total (EF2010A  All students total)</th>\n",
       "      <th>Black or African American total (EF2010A  All students total)</th>\n",
       "      <th>Hispanic total (EF2010A  All students total)</th>\n",
       "      <th>White total (EF2010A  All students total)</th>\n",
       "      <th>Grand total (EF2010A  All students total)</th>\n",
       "      <th>Unnamed: 83</th>\n",
       "    </tr>\n",
       "  </thead>\n",
       "  <tbody>\n",
       "    <tr>\n",
       "      <th>0</th>\n",
       "      <td>128577</td>\n",
       "      <td>Asnuntuck Community College</td>\n",
       "      <td>1858</td>\n",
       "      <td>1870</td>\n",
       "      <td>1945</td>\n",
       "      <td>1571</td>\n",
       "      <td>1603</td>\n",
       "      <td>1715</td>\n",
       "      <td>1673</td>\n",
       "      <td>1687</td>\n",
       "      <td>...</td>\n",
       "      <td>130</td>\n",
       "      <td>89</td>\n",
       "      <td>1321</td>\n",
       "      <td>1687</td>\n",
       "      <td>54</td>\n",
       "      <td>132</td>\n",
       "      <td>114</td>\n",
       "      <td>1425</td>\n",
       "      <td>1836</td>\n",
       "      <td>NaN</td>\n",
       "    </tr>\n",
       "    <tr>\n",
       "      <th>1</th>\n",
       "      <td>129367</td>\n",
       "      <td>Capital Community College</td>\n",
       "      <td>3290</td>\n",
       "      <td>3282</td>\n",
       "      <td>3302</td>\n",
       "      <td>3503</td>\n",
       "      <td>4075</td>\n",
       "      <td>4168</td>\n",
       "      <td>4425</td>\n",
       "      <td>4512</td>\n",
       "      <td>...</td>\n",
       "      <td>1487</td>\n",
       "      <td>1249</td>\n",
       "      <td>954</td>\n",
       "      <td>4512</td>\n",
       "      <td>154</td>\n",
       "      <td>1547</td>\n",
       "      <td>1250</td>\n",
       "      <td>971</td>\n",
       "      <td>4518</td>\n",
       "      <td>NaN</td>\n",
       "    </tr>\n",
       "    <tr>\n",
       "      <th>2</th>\n",
       "      <td>130396</td>\n",
       "      <td>Gateway Community College</td>\n",
       "      <td>7016</td>\n",
       "      <td>7015</td>\n",
       "      <td>7217</td>\n",
       "      <td>7980</td>\n",
       "      <td>8200</td>\n",
       "      <td>8186</td>\n",
       "      <td>7976</td>\n",
       "      <td>7261</td>\n",
       "      <td>...</td>\n",
       "      <td>1585</td>\n",
       "      <td>1284</td>\n",
       "      <td>3282</td>\n",
       "      <td>7261</td>\n",
       "      <td>240</td>\n",
       "      <td>1554</td>\n",
       "      <td>1180</td>\n",
       "      <td>3214</td>\n",
       "      <td>7328</td>\n",
       "      <td>NaN</td>\n",
       "    </tr>\n",
       "    <tr>\n",
       "      <th>3</th>\n",
       "      <td>129543</td>\n",
       "      <td>Housatonic Community College</td>\n",
       "      <td>5012</td>\n",
       "      <td>5138</td>\n",
       "      <td>5143</td>\n",
       "      <td>5369</td>\n",
       "      <td>5286</td>\n",
       "      <td>5813</td>\n",
       "      <td>6077</td>\n",
       "      <td>5975</td>\n",
       "      <td>...</td>\n",
       "      <td>1705</td>\n",
       "      <td>1480</td>\n",
       "      <td>2155</td>\n",
       "      <td>5975</td>\n",
       "      <td>176</td>\n",
       "      <td>1699</td>\n",
       "      <td>1495</td>\n",
       "      <td>2321</td>\n",
       "      <td>6197</td>\n",
       "      <td>NaN</td>\n",
       "    </tr>\n",
       "    <tr>\n",
       "      <th>4</th>\n",
       "      <td>129695</td>\n",
       "      <td>Manchester Community College</td>\n",
       "      <td>6003</td>\n",
       "      <td>6321</td>\n",
       "      <td>6780</td>\n",
       "      <td>6891</td>\n",
       "      <td>7300</td>\n",
       "      <td>7571</td>\n",
       "      <td>7692</td>\n",
       "      <td>7499</td>\n",
       "      <td>...</td>\n",
       "      <td>994</td>\n",
       "      <td>1042</td>\n",
       "      <td>4410</td>\n",
       "      <td>7499</td>\n",
       "      <td>281</td>\n",
       "      <td>955</td>\n",
       "      <td>952</td>\n",
       "      <td>4457</td>\n",
       "      <td>7540</td>\n",
       "      <td>NaN</td>\n",
       "    </tr>\n",
       "    <tr>\n",
       "      <th>5</th>\n",
       "      <td>129756</td>\n",
       "      <td>Middlesex Community College</td>\n",
       "      <td>2547</td>\n",
       "      <td>2682</td>\n",
       "      <td>2733</td>\n",
       "      <td>2902</td>\n",
       "      <td>3005</td>\n",
       "      <td>2900</td>\n",
       "      <td>2933</td>\n",
       "      <td>2876</td>\n",
       "      <td>...</td>\n",
       "      <td>274</td>\n",
       "      <td>418</td>\n",
       "      <td>1937</td>\n",
       "      <td>2876</td>\n",
       "      <td>83</td>\n",
       "      <td>233</td>\n",
       "      <td>406</td>\n",
       "      <td>1873</td>\n",
       "      <td>2952</td>\n",
       "      <td>NaN</td>\n",
       "    </tr>\n",
       "    <tr>\n",
       "      <th>6</th>\n",
       "      <td>129729</td>\n",
       "      <td>Naugatuck Valley Community College</td>\n",
       "      <td>6237</td>\n",
       "      <td>6373</td>\n",
       "      <td>6651</td>\n",
       "      <td>6976</td>\n",
       "      <td>7102</td>\n",
       "      <td>7294</td>\n",
       "      <td>7419</td>\n",
       "      <td>7361</td>\n",
       "      <td>...</td>\n",
       "      <td>644</td>\n",
       "      <td>1525</td>\n",
       "      <td>4387</td>\n",
       "      <td>7361</td>\n",
       "      <td>166</td>\n",
       "      <td>589</td>\n",
       "      <td>1313</td>\n",
       "      <td>4305</td>\n",
       "      <td>7195</td>\n",
       "      <td>NaN</td>\n",
       "    </tr>\n",
       "    <tr>\n",
       "      <th>7</th>\n",
       "      <td>130040</td>\n",
       "      <td>Northwestern Connecticut Community College</td>\n",
       "      <td>1299</td>\n",
       "      <td>1295</td>\n",
       "      <td>1406</td>\n",
       "      <td>1521</td>\n",
       "      <td>1614</td>\n",
       "      <td>1549</td>\n",
       "      <td>1423</td>\n",
       "      <td>1701</td>\n",
       "      <td>...</td>\n",
       "      <td>33</td>\n",
       "      <td>113</td>\n",
       "      <td>1439</td>\n",
       "      <td>1701</td>\n",
       "      <td>19</td>\n",
       "      <td>36</td>\n",
       "      <td>99</td>\n",
       "      <td>1553</td>\n",
       "      <td>1832</td>\n",
       "      <td>NaN</td>\n",
       "    </tr>\n",
       "    <tr>\n",
       "      <th>8</th>\n",
       "      <td>130004</td>\n",
       "      <td>Norwalk Community College</td>\n",
       "      <td>5413</td>\n",
       "      <td>5836</td>\n",
       "      <td>5800</td>\n",
       "      <td>6054</td>\n",
       "      <td>6363</td>\n",
       "      <td>6556</td>\n",
       "      <td>6810</td>\n",
       "      <td>6807</td>\n",
       "      <td>...</td>\n",
       "      <td>1062</td>\n",
       "      <td>1833</td>\n",
       "      <td>2747</td>\n",
       "      <td>6807</td>\n",
       "      <td>229</td>\n",
       "      <td>1066</td>\n",
       "      <td>1609</td>\n",
       "      <td>2713</td>\n",
       "      <td>6740</td>\n",
       "      <td>NaN</td>\n",
       "    </tr>\n",
       "    <tr>\n",
       "      <th>9</th>\n",
       "      <td>130217</td>\n",
       "      <td>Quinebaug Valley Community College</td>\n",
       "      <td>1335</td>\n",
       "      <td>1524</td>\n",
       "      <td>1559</td>\n",
       "      <td>1680</td>\n",
       "      <td>1883</td>\n",
       "      <td>1929</td>\n",
       "      <td>2086</td>\n",
       "      <td>2101</td>\n",
       "      <td>...</td>\n",
       "      <td>38</td>\n",
       "      <td>223</td>\n",
       "      <td>1428</td>\n",
       "      <td>2101</td>\n",
       "      <td>25</td>\n",
       "      <td>45</td>\n",
       "      <td>263</td>\n",
       "      <td>1653</td>\n",
       "      <td>2288</td>\n",
       "      <td>NaN</td>\n",
       "    </tr>\n",
       "    <tr>\n",
       "      <th>10</th>\n",
       "      <td>129808</td>\n",
       "      <td>Three Rivers Community College</td>\n",
       "      <td>3997</td>\n",
       "      <td>4187</td>\n",
       "      <td>4245</td>\n",
       "      <td>4259</td>\n",
       "      <td>4530</td>\n",
       "      <td>4749</td>\n",
       "      <td>4980</td>\n",
       "      <td>5154</td>\n",
       "      <td>...</td>\n",
       "      <td>385</td>\n",
       "      <td>662</td>\n",
       "      <td>3455</td>\n",
       "      <td>5154</td>\n",
       "      <td>164</td>\n",
       "      <td>375</td>\n",
       "      <td>561</td>\n",
       "      <td>3431</td>\n",
       "      <td>5161</td>\n",
       "      <td>NaN</td>\n",
       "    </tr>\n",
       "    <tr>\n",
       "      <th>11</th>\n",
       "      <td>130606</td>\n",
       "      <td>Tunxis Community College</td>\n",
       "      <td>3902</td>\n",
       "      <td>3857</td>\n",
       "      <td>3767</td>\n",
       "      <td>4055</td>\n",
       "      <td>4193</td>\n",
       "      <td>4547</td>\n",
       "      <td>4734</td>\n",
       "      <td>4740</td>\n",
       "      <td>...</td>\n",
       "      <td>311</td>\n",
       "      <td>624</td>\n",
       "      <td>3238</td>\n",
       "      <td>4740</td>\n",
       "      <td>136</td>\n",
       "      <td>306</td>\n",
       "      <td>573</td>\n",
       "      <td>3089</td>\n",
       "      <td>4666</td>\n",
       "      <td>NaN</td>\n",
       "    </tr>\n",
       "  </tbody>\n",
       "</table>\n",
       "<p>12 rows × 84 columns</p>\n",
       "</div>"
      ],
      "text/plain": [
       "    UnitID                            Institution Name  \\\n",
       "0   128577                 Asnuntuck Community College   \n",
       "1   129367                   Capital Community College   \n",
       "2   130396                   Gateway Community College   \n",
       "3   129543                Housatonic Community College   \n",
       "4   129695                Manchester Community College   \n",
       "5   129756                 Middlesex Community College   \n",
       "6   129729          Naugatuck Valley Community College   \n",
       "7   130040  Northwestern Connecticut Community College   \n",
       "8   130004                   Norwalk Community College   \n",
       "9   130217          Quinebaug Valley Community College   \n",
       "10  129808              Three Rivers Community College   \n",
       "11  130606                    Tunxis Community College   \n",
       "\n",
       "    Grand total (EF2018  All students total)  \\\n",
       "0                                       1858   \n",
       "1                                       3290   \n",
       "2                                       7016   \n",
       "3                                       5012   \n",
       "4                                       6003   \n",
       "5                                       2547   \n",
       "6                                       6237   \n",
       "7                                       1299   \n",
       "8                                       5413   \n",
       "9                                       1335   \n",
       "10                                      3997   \n",
       "11                                      3902   \n",
       "\n",
       "    Grand total (EF2017  All students total)  \\\n",
       "0                                       1870   \n",
       "1                                       3282   \n",
       "2                                       7015   \n",
       "3                                       5138   \n",
       "4                                       6321   \n",
       "5                                       2682   \n",
       "6                                       6373   \n",
       "7                                       1295   \n",
       "8                                       5836   \n",
       "9                                       1524   \n",
       "10                                      4187   \n",
       "11                                      3857   \n",
       "\n",
       "    Grand total (EF2016  All students total)  \\\n",
       "0                                       1945   \n",
       "1                                       3302   \n",
       "2                                       7217   \n",
       "3                                       5143   \n",
       "4                                       6780   \n",
       "5                                       2733   \n",
       "6                                       6651   \n",
       "7                                       1406   \n",
       "8                                       5800   \n",
       "9                                       1559   \n",
       "10                                      4245   \n",
       "11                                      3767   \n",
       "\n",
       "    Grand total (EF2015  All students total)  \\\n",
       "0                                       1571   \n",
       "1                                       3503   \n",
       "2                                       7980   \n",
       "3                                       5369   \n",
       "4                                       6891   \n",
       "5                                       2902   \n",
       "6                                       6976   \n",
       "7                                       1521   \n",
       "8                                       6054   \n",
       "9                                       1680   \n",
       "10                                      4259   \n",
       "11                                      4055   \n",
       "\n",
       "    Grand total (EF2014  All students total)  \\\n",
       "0                                       1603   \n",
       "1                                       4075   \n",
       "2                                       8200   \n",
       "3                                       5286   \n",
       "4                                       7300   \n",
       "5                                       3005   \n",
       "6                                       7102   \n",
       "7                                       1614   \n",
       "8                                       6363   \n",
       "9                                       1883   \n",
       "10                                      4530   \n",
       "11                                      4193   \n",
       "\n",
       "    Grand total (EF2013  All students total)  \\\n",
       "0                                       1715   \n",
       "1                                       4168   \n",
       "2                                       8186   \n",
       "3                                       5813   \n",
       "4                                       7571   \n",
       "5                                       2900   \n",
       "6                                       7294   \n",
       "7                                       1549   \n",
       "8                                       6556   \n",
       "9                                       1929   \n",
       "10                                      4749   \n",
       "11                                      4547   \n",
       "\n",
       "    Grand total (EF2012  All students total)  \\\n",
       "0                                       1673   \n",
       "1                                       4425   \n",
       "2                                       7976   \n",
       "3                                       6077   \n",
       "4                                       7692   \n",
       "5                                       2933   \n",
       "6                                       7419   \n",
       "7                                       1423   \n",
       "8                                       6810   \n",
       "9                                       2086   \n",
       "10                                      4980   \n",
       "11                                      4734   \n",
       "\n",
       "    Grand total (EF2011  All students total)  ...  \\\n",
       "0                                       1687  ...   \n",
       "1                                       4512  ...   \n",
       "2                                       7261  ...   \n",
       "3                                       5975  ...   \n",
       "4                                       7499  ...   \n",
       "5                                       2876  ...   \n",
       "6                                       7361  ...   \n",
       "7                                       1701  ...   \n",
       "8                                       6807  ...   \n",
       "9                                       2101  ...   \n",
       "10                                      5154  ...   \n",
       "11                                      4740  ...   \n",
       "\n",
       "    Black or African American total (EF2011A  All students total)  \\\n",
       "0                                                 130               \n",
       "1                                                1487               \n",
       "2                                                1585               \n",
       "3                                                1705               \n",
       "4                                                 994               \n",
       "5                                                 274               \n",
       "6                                                 644               \n",
       "7                                                  33               \n",
       "8                                                1062               \n",
       "9                                                  38               \n",
       "10                                                385               \n",
       "11                                                311               \n",
       "\n",
       "    Hispanic total (EF2011A  All students total)  \\\n",
       "0                                             89   \n",
       "1                                           1249   \n",
       "2                                           1284   \n",
       "3                                           1480   \n",
       "4                                           1042   \n",
       "5                                            418   \n",
       "6                                           1525   \n",
       "7                                            113   \n",
       "8                                           1833   \n",
       "9                                            223   \n",
       "10                                           662   \n",
       "11                                           624   \n",
       "\n",
       "    White total (EF2011A  All students total)  \\\n",
       "0                                        1321   \n",
       "1                                         954   \n",
       "2                                        3282   \n",
       "3                                        2155   \n",
       "4                                        4410   \n",
       "5                                        1937   \n",
       "6                                        4387   \n",
       "7                                        1439   \n",
       "8                                        2747   \n",
       "9                                        1428   \n",
       "10                                       3455   \n",
       "11                                       3238   \n",
       "\n",
       "    Grand total (EF2011A  All students total)  \\\n",
       "0                                        1687   \n",
       "1                                        4512   \n",
       "2                                        7261   \n",
       "3                                        5975   \n",
       "4                                        7499   \n",
       "5                                        2876   \n",
       "6                                        7361   \n",
       "7                                        1701   \n",
       "8                                        6807   \n",
       "9                                        2101   \n",
       "10                                       5154   \n",
       "11                                       4740   \n",
       "\n",
       "    Asian total (EF2010A  All students total)  \\\n",
       "0                                          54   \n",
       "1                                         154   \n",
       "2                                         240   \n",
       "3                                         176   \n",
       "4                                         281   \n",
       "5                                          83   \n",
       "6                                         166   \n",
       "7                                          19   \n",
       "8                                         229   \n",
       "9                                          25   \n",
       "10                                        164   \n",
       "11                                        136   \n",
       "\n",
       "    Black or African American total (EF2010A  All students total)  \\\n",
       "0                                                 132               \n",
       "1                                                1547               \n",
       "2                                                1554               \n",
       "3                                                1699               \n",
       "4                                                 955               \n",
       "5                                                 233               \n",
       "6                                                 589               \n",
       "7                                                  36               \n",
       "8                                                1066               \n",
       "9                                                  45               \n",
       "10                                                375               \n",
       "11                                                306               \n",
       "\n",
       "    Hispanic total (EF2010A  All students total)  \\\n",
       "0                                            114   \n",
       "1                                           1250   \n",
       "2                                           1180   \n",
       "3                                           1495   \n",
       "4                                            952   \n",
       "5                                            406   \n",
       "6                                           1313   \n",
       "7                                             99   \n",
       "8                                           1609   \n",
       "9                                            263   \n",
       "10                                           561   \n",
       "11                                           573   \n",
       "\n",
       "    White total (EF2010A  All students total)  \\\n",
       "0                                        1425   \n",
       "1                                         971   \n",
       "2                                        3214   \n",
       "3                                        2321   \n",
       "4                                        4457   \n",
       "5                                        1873   \n",
       "6                                        4305   \n",
       "7                                        1553   \n",
       "8                                        2713   \n",
       "9                                        1653   \n",
       "10                                       3431   \n",
       "11                                       3089   \n",
       "\n",
       "    Grand total (EF2010A  All students total)  Unnamed: 83  \n",
       "0                                        1836          NaN  \n",
       "1                                        4518          NaN  \n",
       "2                                        7328          NaN  \n",
       "3                                        6197          NaN  \n",
       "4                                        7540          NaN  \n",
       "5                                        2952          NaN  \n",
       "6                                        7195          NaN  \n",
       "7                                        1832          NaN  \n",
       "8                                        6740          NaN  \n",
       "9                                        2288          NaN  \n",
       "10                                       5161          NaN  \n",
       "11                                       4666          NaN  \n",
       "\n",
       "[12 rows x 84 columns]"
      ]
     },
     "execution_count": 3,
     "metadata": {},
     "output_type": "execute_result"
    }
   ],
   "source": [
    "df"
   ]
  },
  {
   "cell_type": "code",
   "execution_count": 4,
   "metadata": {},
   "outputs": [],
   "source": [
    "new_df = df.melt(id_vars=['Institution Name', 'UnitID'])"
   ]
  },
  {
   "cell_type": "code",
   "execution_count": 5,
   "metadata": {},
   "outputs": [],
   "source": [
    "new_df['Year'] = new_df.variable.str.extract(r'.*EF(\\d\\d\\d\\d)').astype(float)"
   ]
  },
  {
   "cell_type": "code",
   "execution_count": 6,
   "metadata": {},
   "outputs": [
    {
     "data": {
      "text/html": [
       "<div>\n",
       "<style scoped>\n",
       "    .dataframe tbody tr th:only-of-type {\n",
       "        vertical-align: middle;\n",
       "    }\n",
       "\n",
       "    .dataframe tbody tr th {\n",
       "        vertical-align: top;\n",
       "    }\n",
       "\n",
       "    .dataframe thead th {\n",
       "        text-align: right;\n",
       "    }\n",
       "</style>\n",
       "<table border=\"1\" class=\"dataframe\">\n",
       "  <thead>\n",
       "    <tr style=\"text-align: right;\">\n",
       "      <th></th>\n",
       "      <th>Institution Name</th>\n",
       "      <th>UnitID</th>\n",
       "      <th>variable</th>\n",
       "      <th>value</th>\n",
       "      <th>Year</th>\n",
       "    </tr>\n",
       "  </thead>\n",
       "  <tbody>\n",
       "    <tr>\n",
       "      <th>0</th>\n",
       "      <td>Asnuntuck Community College</td>\n",
       "      <td>128577</td>\n",
       "      <td>Grand total (EF2018  All students total)</td>\n",
       "      <td>1858.0</td>\n",
       "      <td>2018.0</td>\n",
       "    </tr>\n",
       "    <tr>\n",
       "      <th>1</th>\n",
       "      <td>Capital Community College</td>\n",
       "      <td>129367</td>\n",
       "      <td>Grand total (EF2018  All students total)</td>\n",
       "      <td>3290.0</td>\n",
       "      <td>2018.0</td>\n",
       "    </tr>\n",
       "    <tr>\n",
       "      <th>2</th>\n",
       "      <td>Gateway Community College</td>\n",
       "      <td>130396</td>\n",
       "      <td>Grand total (EF2018  All students total)</td>\n",
       "      <td>7016.0</td>\n",
       "      <td>2018.0</td>\n",
       "    </tr>\n",
       "    <tr>\n",
       "      <th>3</th>\n",
       "      <td>Housatonic Community College</td>\n",
       "      <td>129543</td>\n",
       "      <td>Grand total (EF2018  All students total)</td>\n",
       "      <td>5012.0</td>\n",
       "      <td>2018.0</td>\n",
       "    </tr>\n",
       "    <tr>\n",
       "      <th>4</th>\n",
       "      <td>Manchester Community College</td>\n",
       "      <td>129695</td>\n",
       "      <td>Grand total (EF2018  All students total)</td>\n",
       "      <td>6003.0</td>\n",
       "      <td>2018.0</td>\n",
       "    </tr>\n",
       "    <tr>\n",
       "      <th>...</th>\n",
       "      <td>...</td>\n",
       "      <td>...</td>\n",
       "      <td>...</td>\n",
       "      <td>...</td>\n",
       "      <td>...</td>\n",
       "    </tr>\n",
       "    <tr>\n",
       "      <th>487</th>\n",
       "      <td>Northwestern Connecticut Community College</td>\n",
       "      <td>130040</td>\n",
       "      <td>Grand total (EF2018A  All students total)</td>\n",
       "      <td>1299.0</td>\n",
       "      <td>2018.0</td>\n",
       "    </tr>\n",
       "    <tr>\n",
       "      <th>488</th>\n",
       "      <td>Norwalk Community College</td>\n",
       "      <td>130004</td>\n",
       "      <td>Grand total (EF2018A  All students total)</td>\n",
       "      <td>5413.0</td>\n",
       "      <td>2018.0</td>\n",
       "    </tr>\n",
       "    <tr>\n",
       "      <th>489</th>\n",
       "      <td>Quinebaug Valley Community College</td>\n",
       "      <td>130217</td>\n",
       "      <td>Grand total (EF2018A  All students total)</td>\n",
       "      <td>1335.0</td>\n",
       "      <td>2018.0</td>\n",
       "    </tr>\n",
       "    <tr>\n",
       "      <th>490</th>\n",
       "      <td>Three Rivers Community College</td>\n",
       "      <td>129808</td>\n",
       "      <td>Grand total (EF2018A  All students total)</td>\n",
       "      <td>3997.0</td>\n",
       "      <td>2018.0</td>\n",
       "    </tr>\n",
       "    <tr>\n",
       "      <th>491</th>\n",
       "      <td>Tunxis Community College</td>\n",
       "      <td>130606</td>\n",
       "      <td>Grand total (EF2018A  All students total)</td>\n",
       "      <td>3902.0</td>\n",
       "      <td>2018.0</td>\n",
       "    </tr>\n",
       "  </tbody>\n",
       "</table>\n",
       "<p>72 rows × 5 columns</p>\n",
       "</div>"
      ],
      "text/plain": [
       "                               Institution Name  UnitID  \\\n",
       "0                   Asnuntuck Community College  128577   \n",
       "1                     Capital Community College  129367   \n",
       "2                     Gateway Community College  130396   \n",
       "3                  Housatonic Community College  129543   \n",
       "4                  Manchester Community College  129695   \n",
       "..                                          ...     ...   \n",
       "487  Northwestern Connecticut Community College  130040   \n",
       "488                   Norwalk Community College  130004   \n",
       "489          Quinebaug Valley Community College  130217   \n",
       "490              Three Rivers Community College  129808   \n",
       "491                    Tunxis Community College  130606   \n",
       "\n",
       "                                      variable   value    Year  \n",
       "0     Grand total (EF2018  All students total)  1858.0  2018.0  \n",
       "1     Grand total (EF2018  All students total)  3290.0  2018.0  \n",
       "2     Grand total (EF2018  All students total)  7016.0  2018.0  \n",
       "3     Grand total (EF2018  All students total)  5012.0  2018.0  \n",
       "4     Grand total (EF2018  All students total)  6003.0  2018.0  \n",
       "..                                         ...     ...     ...  \n",
       "487  Grand total (EF2018A  All students total)  1299.0  2018.0  \n",
       "488  Grand total (EF2018A  All students total)  5413.0  2018.0  \n",
       "489  Grand total (EF2018A  All students total)  1335.0  2018.0  \n",
       "490  Grand total (EF2018A  All students total)  3997.0  2018.0  \n",
       "491  Grand total (EF2018A  All students total)  3902.0  2018.0  \n",
       "\n",
       "[72 rows x 5 columns]"
      ]
     },
     "execution_count": 6,
     "metadata": {},
     "output_type": "execute_result"
    }
   ],
   "source": [
    "new_df[new_df['Year']==2018]"
   ]
  },
  {
   "cell_type": "markdown",
   "metadata": {},
   "source": [
    "# Asian"
   ]
  },
  {
   "cell_type": "code",
   "execution_count": 7,
   "metadata": {},
   "outputs": [],
   "source": [
    "df_asian = pd.DataFrame(new_df[new_df['variable'].str.contains('Asian total')==True].groupby(by='Year')['value'].sum()).rename(columns = \n",
    "                                                                                                                   {\n",
    "                                                                                                                       'value': 'Asian total'})\n",
    "df_asian.to_csv('asian_enrollment.csv')                                                                                                                   "
   ]
  },
  {
   "cell_type": "code",
   "execution_count": 106,
   "metadata": {},
   "outputs": [
    {
     "data": {
      "text/plain": [
       "<AxesSubplot:xlabel='Year'>"
      ]
     },
     "execution_count": 106,
     "metadata": {},
     "output_type": "execute_result"
    },
    {
     "data": {
      "image/png": "[encoded data removed]",
      "text/plain": [
       "<Figure size 432x288 with 1 Axes>"
      ]
     },
     "metadata": {
      "needs_background": "light"
     },
     "output_type": "display_data"
    }
   ],
   "source": [
    "df_asian.plot(kind='bar', x='Year', y='Asian total')"
   ]
  },
  {
   "cell_type": "markdown",
   "metadata": {},
   "source": [
    "# White"
   ]
  },
  {
   "cell_type": "code",
   "execution_count": 9,
   "metadata": {},
   "outputs": [],
   "source": [
    "df_white = pd.DataFrame(new_df[new_df['variable'].str.contains('White total')==True].groupby(by='Year')['value'].sum()).rename(columns = \n",
    "                                                                                                                   {\n",
    "                                                                                                                       'value': 'White total'})\n",
    "\n",
    "df_white.to_csv('white_enrollment.csv')                                                        "
   ]
  },
  {
   "cell_type": "code",
   "execution_count": 107,
   "metadata": {},
   "outputs": [
    {
     "data": {
      "text/plain": [
       "<AxesSubplot:xlabel='Year'>"
      ]
     },
     "execution_count": 107,
     "metadata": {},
     "output_type": "execute_result"
    },
    {
     "data": {
      "image/png": "[encoded data removed]",
      "text/plain": [
       "<Figure size 432x288 with 1 Axes>"
      ]
     },
     "metadata": {
      "needs_background": "light"
     },
     "output_type": "display_data"
    }
   ],
   "source": [
    "df_white.plot(kind='bar',x='Year', y='White total')"
   ]
  },
  {
   "cell_type": "markdown",
   "metadata": {},
   "source": [
    "# Black"
   ]
  },
  {
   "cell_type": "code",
   "execution_count": 11,
   "metadata": {},
   "outputs": [],
   "source": [
    "df_black = pd.DataFrame(new_df[new_df['variable'].str.contains('African American total')==True].groupby(by='Year')['value'].sum()).rename(columns = \n",
    "                                                                                                                   {\n",
    "                                                                                                                       'value': 'Black total'})\n",
    "\n",
    "df_black.to_csv('black_enrollment.csv')                                                        "
   ]
  },
  {
   "cell_type": "code",
   "execution_count": 108,
   "metadata": {},
   "outputs": [
    {
     "data": {
      "text/plain": [
       "<AxesSubplot:xlabel='Year'>"
      ]
     },
     "execution_count": 108,
     "metadata": {},
     "output_type": "execute_result"
    },
    {
     "data": {
      "image/png": "[encoded data removed]",
      "text/plain": [
       "<Figure size 432x288 with 1 Axes>"
      ]
     },
     "metadata": {
      "needs_background": "light"
     },
     "output_type": "display_data"
    }
   ],
   "source": [
    "df_black.plot(kind='bar', x='Year', y='Black total')"
   ]
  },
  {
   "cell_type": "markdown",
   "metadata": {},
   "source": [
    "# Hispanic"
   ]
  },
  {
   "cell_type": "code",
   "execution_count": 13,
   "metadata": {},
   "outputs": [],
   "source": [
    "df_hisp = pd.DataFrame(new_df[new_df['variable'].str.contains('Hispanic total')==True].groupby(by='Year')['value'].sum()).rename(columns = \n",
    "                                                                                                                   {\n",
    "                                                                                                                       'value': 'Hispanic total'})\n",
    "\n",
    "df_hisp.to_csv('hisp_enrollment.csv')                                                        "
   ]
  },
  {
   "cell_type": "code",
   "execution_count": 109,
   "metadata": {},
   "outputs": [
    {
     "data": {
      "text/plain": [
       "<AxesSubplot:xlabel='Year'>"
      ]
     },
     "execution_count": 109,
     "metadata": {},
     "output_type": "execute_result"
    },
    {
     "data": {
      "image/png": "[encoded data removed]",
      "text/plain": [
       "<Figure size 432x288 with 1 Axes>"
      ]
     },
     "metadata": {
      "needs_background": "light"
     },
     "output_type": "display_data"
    }
   ],
   "source": [
    "df_hisp.plot(kind='bar', x='Year', y='Hispanic total')"
   ]
  },
  {
   "cell_type": "markdown",
   "metadata": {},
   "source": [
    "# Further cleaning"
   ]
  },
  {
   "cell_type": "markdown",
   "metadata": {},
   "source": [
    "Added 2019 data from https://www.ct.edu/files/opr/WEB%20Enrollment-by-Race-Ethnicity-through-F2019.pdf essentially manually bc easier than scraping"
   ]
  },
  {
   "cell_type": "markdown",
   "metadata": {},
   "source": [
    "# Calculating percentages"
   ]
  },
  {
   "cell_type": "code",
   "execution_count": 15,
   "metadata": {},
   "outputs": [],
   "source": [
    "df_all = pd.DataFrame(new_df[new_df['variable'].str.contains('Grand total')==True].groupby(by='Year')['value'].sum()).rename(columns = \n",
    "                                                                                                                   {\n",
    "                                                                                                                       'value': 'total'})\n",
    "                                                      "
   ]
  },
  {
   "cell_type": "code",
   "execution_count": 32,
   "metadata": {},
   "outputs": [],
   "source": [
    "df_all = df_all.reset_index()"
   ]
  },
  {
   "cell_type": "code",
   "execution_count": 37,
   "metadata": {},
   "outputs": [],
   "source": [
    "df_all= df_all[df_all['Year']>2009]"
   ]
  },
  {
   "cell_type": "code",
   "execution_count": 38,
   "metadata": {},
   "outputs": [],
   "source": [
    "df_all['total']= df_all['total']/2"
   ]
  },
  {
   "cell_type": "code",
   "execution_count": 39,
   "metadata": {},
   "outputs": [],
   "source": [
    "df_all.to_csv('all_enrollment.csv', index=False)  "
   ]
  },
  {
   "cell_type": "code",
   "execution_count": 41,
   "metadata": {},
   "outputs": [
    {
     "data": {
      "text/plain": [
       "<AxesSubplot:xlabel='Year'>"
      ]
     },
     "execution_count": 41,
     "metadata": {},
     "output_type": "execute_result"
    },
    {
     "data": {
      "image/png": "[encoded data removed]",
      "text/plain": [
       "<Figure size 432x288 with 1 Axes>"
      ]
     },
     "metadata": {
      "needs_background": "light"
     },
     "output_type": "display_data"
    }
   ],
   "source": [
    "df_all.plot(kind='bar', x='Year', y='total')"
   ]
  },
  {
   "cell_type": "code",
   "execution_count": 83,
   "metadata": {},
   "outputs": [],
   "source": [
    "df_asian = pd.read_csv('asian_enrollment.csv')"
   ]
  },
  {
   "cell_type": "code",
   "execution_count": 84,
   "metadata": {},
   "outputs": [],
   "source": [
    "df_white = pd.read_csv('white_enrollment.csv')"
   ]
  },
  {
   "cell_type": "code",
   "execution_count": 85,
   "metadata": {},
   "outputs": [],
   "source": [
    "df_black = pd.read_csv('black_enrollment.csv')"
   ]
  },
  {
   "cell_type": "code",
   "execution_count": 86,
   "metadata": {},
   "outputs": [],
   "source": [
    "df_hisp = pd.read_csv('hisp_enrollment.csv')"
   ]
  },
  {
   "cell_type": "code",
   "execution_count": 87,
   "metadata": {},
   "outputs": [],
   "source": [
    "df_all = pd.read_csv('all_enrollment.csv')"
   ]
  },
  {
   "cell_type": "code",
   "execution_count": 88,
   "metadata": {},
   "outputs": [],
   "source": [
    "df_asian = df_asian.merge(df_all, left_on='Year', right_on='Year')"
   ]
  },
  {
   "cell_type": "code",
   "execution_count": 89,
   "metadata": {},
   "outputs": [],
   "source": [
    "df_white = df_white.merge(df_all, left_on='Year', right_on='Year')"
   ]
  },
  {
   "cell_type": "code",
   "execution_count": 90,
   "metadata": {},
   "outputs": [],
   "source": [
    "df_black = df_black.merge(df_all, left_on='Year', right_on='Year')"
   ]
  },
  {
   "cell_type": "code",
   "execution_count": 91,
   "metadata": {},
   "outputs": [],
   "source": [
    "df_hisp = df_hisp.merge(df_all, left_on='Year', right_on='Year')"
   ]
  },
  {
   "cell_type": "code",
   "execution_count": 92,
   "metadata": {},
   "outputs": [],
   "source": [
    "df_asian['%_asian'] = 100*df_asian['Asian total']/df_asian['total']"
   ]
  },
  {
   "cell_type": "code",
   "execution_count": 93,
   "metadata": {},
   "outputs": [],
   "source": [
    "df_white['%_white'] = 100*df_white['White total']/df_white['total']"
   ]
  },
  {
   "cell_type": "code",
   "execution_count": 94,
   "metadata": {},
   "outputs": [],
   "source": [
    "df_black['%_black'] = 100*df_black['Black total']/df_black['total']"
   ]
  },
  {
   "cell_type": "code",
   "execution_count": 95,
   "metadata": {},
   "outputs": [],
   "source": [
    "df_hisp['%_hisp'] = 100*df_hisp['Hispanic total']/df_hisp['total']"
   ]
  },
  {
   "cell_type": "code",
   "execution_count": 96,
   "metadata": {},
   "outputs": [],
   "source": [
    "df_final_2 = df_asian.merge(df_white, left_on='Year', right_on='Year').merge(df_black, left_on='Year', right_on='Year').merge(df_hisp, left_on='Year', right_on='Year')"
   ]
  },
  {
   "cell_type": "code",
   "execution_count": 97,
   "metadata": {},
   "outputs": [],
   "source": [
    "df_final = df_final_2[['Year','%_white', '%_black', '%_hisp', '%_asian']]"
   ]
  },
  {
   "cell_type": "markdown",
   "metadata": {},
   "source": [
    "# Racial composition over time"
   ]
  },
  {
   "cell_type": "code",
   "execution_count": 98,
   "metadata": {},
   "outputs": [
    {
     "data": {
      "text/plain": [
       "[<matplotlib.axis.XTick at 0x115330240>,\n",
       " <matplotlib.axis.XTick at 0x11532ddd8>,\n",
       " <matplotlib.axis.XTick at 0x1153e2c50>,\n",
       " <matplotlib.axis.XTick at 0x1153efeb8>,\n",
       " <matplotlib.axis.XTick at 0x1153fe390>,\n",
       " <matplotlib.axis.XTick at 0x1153fe828>,\n",
       " <matplotlib.axis.XTick at 0x1153fe160>,\n",
       " <matplotlib.axis.XTick at 0x1153fed68>,\n",
       " <matplotlib.axis.XTick at 0x11532da20>,\n",
       " <matplotlib.axis.XTick at 0x1154063c8>]"
      ]
     },
     "execution_count": 98,
     "metadata": {},
     "output_type": "execute_result"
    },
    {
     "data": {
      "image/png": "[encoded data removed]",
      "text/plain": [
       "<Figure size 432x288 with 1 Axes>"
      ]
     },
     "metadata": {
      "needs_background": "light"
     },
     "output_type": "display_data"
    }
   ],
   "source": [
    "ax = df_final.plot.area(x='Year')\n",
    "ax.set_xticks([2010, 2011, 2012, 2013, 2014, 2015, 2016, 2017, 2018,2019])"
   ]
  },
  {
   "cell_type": "code",
   "execution_count": 99,
   "metadata": {},
   "outputs": [
    {
     "data": {
      "text/html": [
       "<div>\n",
       "<style scoped>\n",
       "    .dataframe tbody tr th:only-of-type {\n",
       "        vertical-align: middle;\n",
       "    }\n",
       "\n",
       "    .dataframe tbody tr th {\n",
       "        vertical-align: top;\n",
       "    }\n",
       "\n",
       "    .dataframe thead th {\n",
       "        text-align: right;\n",
       "    }\n",
       "</style>\n",
       "<table border=\"1\" class=\"dataframe\">\n",
       "  <thead>\n",
       "    <tr style=\"text-align: right;\">\n",
       "      <th></th>\n",
       "      <th>Year</th>\n",
       "      <th>Asian total</th>\n",
       "      <th>%_asian</th>\n",
       "      <th>White total</th>\n",
       "      <th>total</th>\n",
       "      <th>%_white</th>\n",
       "      <th>Black total</th>\n",
       "      <th>%_black</th>\n",
       "      <th>Hispanic total</th>\n",
       "      <th>total</th>\n",
       "      <th>%_hisp</th>\n",
       "    </tr>\n",
       "  </thead>\n",
       "  <tbody>\n",
       "    <tr>\n",
       "      <th>0</th>\n",
       "      <td>2010.0</td>\n",
       "      <td>1727.0</td>\n",
       "      <td>2.964654</td>\n",
       "      <td>31005.0</td>\n",
       "      <td>58253.0</td>\n",
       "      <td>53.224727</td>\n",
       "      <td>8537.0</td>\n",
       "      <td>14.655039</td>\n",
       "      <td>9815.0</td>\n",
       "      <td>58253.0</td>\n",
       "      <td>16.848918</td>\n",
       "    </tr>\n",
       "    <tr>\n",
       "      <th>1</th>\n",
       "      <td>2011.0</td>\n",
       "      <td>1773.0</td>\n",
       "      <td>3.074176</td>\n",
       "      <td>30753.0</td>\n",
       "      <td>57674.0</td>\n",
       "      <td>53.322121</td>\n",
       "      <td>8648.0</td>\n",
       "      <td>14.994625</td>\n",
       "      <td>10542.0</td>\n",
       "      <td>57674.0</td>\n",
       "      <td>18.278600</td>\n",
       "    </tr>\n",
       "    <tr>\n",
       "      <th>2</th>\n",
       "      <td>2012.0</td>\n",
       "      <td>1960.0</td>\n",
       "      <td>3.366078</td>\n",
       "      <td>30523.0</td>\n",
       "      <td>58228.0</td>\n",
       "      <td>52.419798</td>\n",
       "      <td>9343.0</td>\n",
       "      <td>16.045545</td>\n",
       "      <td>11477.0</td>\n",
       "      <td>58228.0</td>\n",
       "      <td>19.710449</td>\n",
       "    </tr>\n",
       "    <tr>\n",
       "      <th>3</th>\n",
       "      <td>2013.0</td>\n",
       "      <td>1969.0</td>\n",
       "      <td>3.455780</td>\n",
       "      <td>29524.0</td>\n",
       "      <td>56977.0</td>\n",
       "      <td>51.817400</td>\n",
       "      <td>9400.0</td>\n",
       "      <td>16.497885</td>\n",
       "      <td>11832.0</td>\n",
       "      <td>56977.0</td>\n",
       "      <td>20.766274</td>\n",
       "    </tr>\n",
       "    <tr>\n",
       "      <th>4</th>\n",
       "      <td>2014.0</td>\n",
       "      <td>2010.0</td>\n",
       "      <td>3.644341</td>\n",
       "      <td>27547.0</td>\n",
       "      <td>55154.0</td>\n",
       "      <td>49.945607</td>\n",
       "      <td>9520.0</td>\n",
       "      <td>17.260761</td>\n",
       "      <td>11996.0</td>\n",
       "      <td>55154.0</td>\n",
       "      <td>21.750009</td>\n",
       "    </tr>\n",
       "    <tr>\n",
       "      <th>5</th>\n",
       "      <td>2015.0</td>\n",
       "      <td>1944.0</td>\n",
       "      <td>3.684540</td>\n",
       "      <td>25996.0</td>\n",
       "      <td>52761.0</td>\n",
       "      <td>49.271242</td>\n",
       "      <td>8946.0</td>\n",
       "      <td>16.955706</td>\n",
       "      <td>11998.0</td>\n",
       "      <td>52761.0</td>\n",
       "      <td>22.740282</td>\n",
       "    </tr>\n",
       "    <tr>\n",
       "      <th>6</th>\n",
       "      <td>2016.0</td>\n",
       "      <td>1926.0</td>\n",
       "      <td>3.810240</td>\n",
       "      <td>23994.0</td>\n",
       "      <td>50548.0</td>\n",
       "      <td>47.467753</td>\n",
       "      <td>8556.0</td>\n",
       "      <td>16.926486</td>\n",
       "      <td>12315.0</td>\n",
       "      <td>50548.0</td>\n",
       "      <td>24.362982</td>\n",
       "    </tr>\n",
       "    <tr>\n",
       "      <th>7</th>\n",
       "      <td>2017.0</td>\n",
       "      <td>1877.0</td>\n",
       "      <td>3.801134</td>\n",
       "      <td>22878.0</td>\n",
       "      <td>49380.0</td>\n",
       "      <td>46.330498</td>\n",
       "      <td>8584.0</td>\n",
       "      <td>17.383556</td>\n",
       "      <td>12526.0</td>\n",
       "      <td>49380.0</td>\n",
       "      <td>25.366545</td>\n",
       "    </tr>\n",
       "    <tr>\n",
       "      <th>8</th>\n",
       "      <td>2018.0</td>\n",
       "      <td>1970.0</td>\n",
       "      <td>4.111962</td>\n",
       "      <td>21661.0</td>\n",
       "      <td>47909.0</td>\n",
       "      <td>45.212799</td>\n",
       "      <td>8494.0</td>\n",
       "      <td>17.729445</td>\n",
       "      <td>12315.0</td>\n",
       "      <td>47909.0</td>\n",
       "      <td>25.704982</td>\n",
       "    </tr>\n",
       "    <tr>\n",
       "      <th>9</th>\n",
       "      <td>2019.0</td>\n",
       "      <td>1821.0</td>\n",
       "      <td>4.033401</td>\n",
       "      <td>19742.0</td>\n",
       "      <td>45148.0</td>\n",
       "      <td>43.727297</td>\n",
       "      <td>7959.0</td>\n",
       "      <td>17.628688</td>\n",
       "      <td>12419.0</td>\n",
       "      <td>45148.0</td>\n",
       "      <td>27.507309</td>\n",
       "    </tr>\n",
       "    <tr>\n",
       "      <th>10</th>\n",
       "      <td>2020.0</td>\n",
       "      <td>1592.0</td>\n",
       "      <td>4.084355</td>\n",
       "      <td>17642.0</td>\n",
       "      <td>38978.0</td>\n",
       "      <td>45.261430</td>\n",
       "      <td>6581.0</td>\n",
       "      <td>16.883883</td>\n",
       "      <td>10439.0</td>\n",
       "      <td>38978.0</td>\n",
       "      <td>26.781774</td>\n",
       "    </tr>\n",
       "  </tbody>\n",
       "</table>\n",
       "</div>"
      ],
      "text/plain": [
       "      Year  Asian total   %_asian  White total    total    %_white  \\\n",
       "0   2010.0       1727.0  2.964654      31005.0  58253.0  53.224727   \n",
       "1   2011.0       1773.0  3.074176      30753.0  57674.0  53.322121   \n",
       "2   2012.0       1960.0  3.366078      30523.0  58228.0  52.419798   \n",
       "3   2013.0       1969.0  3.455780      29524.0  56977.0  51.817400   \n",
       "4   2014.0       2010.0  3.644341      27547.0  55154.0  49.945607   \n",
       "5   2015.0       1944.0  3.684540      25996.0  52761.0  49.271242   \n",
       "6   2016.0       1926.0  3.810240      23994.0  50548.0  47.467753   \n",
       "7   2017.0       1877.0  3.801134      22878.0  49380.0  46.330498   \n",
       "8   2018.0       1970.0  4.111962      21661.0  47909.0  45.212799   \n",
       "9   2019.0       1821.0  4.033401      19742.0  45148.0  43.727297   \n",
       "10  2020.0       1592.0  4.084355      17642.0  38978.0  45.261430   \n",
       "\n",
       "    Black total    %_black  Hispanic total    total     %_hisp  \n",
       "0        8537.0  14.655039          9815.0  58253.0  16.848918  \n",
       "1        8648.0  14.994625         10542.0  57674.0  18.278600  \n",
       "2        9343.0  16.045545         11477.0  58228.0  19.710449  \n",
       "3        9400.0  16.497885         11832.0  56977.0  20.766274  \n",
       "4        9520.0  17.260761         11996.0  55154.0  21.750009  \n",
       "5        8946.0  16.955706         11998.0  52761.0  22.740282  \n",
       "6        8556.0  16.926486         12315.0  50548.0  24.362982  \n",
       "7        8584.0  17.383556         12526.0  49380.0  25.366545  \n",
       "8        8494.0  17.729445         12315.0  47909.0  25.704982  \n",
       "9        7959.0  17.628688         12419.0  45148.0  27.507309  \n",
       "10       6581.0  16.883883         10439.0  38978.0  26.781774  "
      ]
     },
     "execution_count": 99,
     "metadata": {},
     "output_type": "execute_result"
    }
   ],
   "source": [
    "df_final_2.drop(columns={'total_x'}).rename(columns={'total_y':'total'}).drop_duplicates(subset=['total'], keep='last')"
   ]
  },
  {
   "cell_type": "markdown",
   "metadata": {},
   "source": [
    "# % decrease within races"
   ]
  },
  {
   "cell_type": "code",
   "execution_count": 101,
   "metadata": {},
   "outputs": [],
   "source": [
    "df_black['pct_change_black'] = 100*df_black['Black total'].pct_change()"
   ]
  },
  {
   "cell_type": "code",
   "execution_count": 102,
   "metadata": {},
   "outputs": [],
   "source": [
    "df_hisp['pct_change_hisp'] = 100*df_hisp['Hispanic total'].pct_change()"
   ]
  },
  {
   "cell_type": "markdown",
   "metadata": {},
   "source": [
    "# Hispanic % change historically"
   ]
  },
  {
   "cell_type": "markdown",
   "metadata": {},
   "source": [
    "Drop in Hispanic enrollment at present comes after a decade comprising mostly of increases in their enrollment."
   ]
  },
  {
   "cell_type": "code",
   "execution_count": 103,
   "metadata": {},
   "outputs": [
    {
     "data": {
      "text/plain": [
       "<AxesSubplot:xlabel='Year'>"
      ]
     },
     "execution_count": 103,
     "metadata": {},
     "output_type": "execute_result"
    },
    {
     "data": {
      "image/png": "[encoded data removed]",
      "text/plain": [
       "<Figure size 432x288 with 1 Axes>"
      ]
     },
     "metadata": {
      "needs_background": "light"
     },
     "output_type": "display_data"
    }
   ],
   "source": [
    "df_hisp.plot(x='Year', y='pct_change_hisp', kind='bar')"
   ]
  },
  {
   "cell_type": "markdown",
   "metadata": {},
   "source": [
    "# Black % change historically"
   ]
  },
  {
   "cell_type": "markdown",
   "metadata": {},
   "source": [
    "Drop in Black enrollment at present comes after drops in enrollment in recent years."
   ]
  },
  {
   "cell_type": "code",
   "execution_count": 104,
   "metadata": {},
   "outputs": [
    {
     "data": {
      "text/plain": [
       "<AxesSubplot:xlabel='Year'>"
      ]
     },
     "execution_count": 104,
     "metadata": {},
     "output_type": "execute_result"
    },
    {
     "data": {
      "image/png": "[encoded data removed]",
      "text/plain": [
       "<Figure size 432x288 with 1 Axes>"
      ]
     },
     "metadata": {
      "needs_background": "light"
     },
     "output_type": "display_data"
    }
   ],
   "source": [
    "df_black.plot(x='Year', y='pct_change_black', kind='bar')"
   ]
  },
  {
   "cell_type": "code",
   "execution_count": null,
   "metadata": {},
   "outputs": [],
   "source": []
  }
 ],
 "metadata": {
  "kernelspec": {
   "display_name": "Python 3",
   "language": "python",
   "name": "python3"
  },
  "language_info": {
   "codemirror_mode": {
    "name": "ipython",
    "version": 3
   },
   "file_extension": ".py",
   "mimetype": "text/x-python",
   "name": "python",
   "nbconvert_exporter": "python",
   "pygments_lexer": "ipython3",
   "version": "3.7.1"
  }
 },
 "nbformat": 4,
 "nbformat_minor": 4
}
