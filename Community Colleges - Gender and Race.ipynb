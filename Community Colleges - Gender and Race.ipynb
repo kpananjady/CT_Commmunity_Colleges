{
 "cells": [
  {
   "cell_type": "markdown",
   "metadata": {},
   "source": [
    "# What this file does"
   ]
  },
  {
   "cell_type": "markdown",
   "metadata": {},
   "source": [
    "It shows the historical breakdown of race over the past 10 years at community colleges in CT of all students in the Fall Enrollment survey. "
   ]
  },
  {
   "cell_type": "markdown",
   "metadata": {},
   "source": [
    "# Findings"
   ]
  },
  {
   "cell_type": "markdown",
   "metadata": {},
   "source": [
    "The overall population in CCs has decreased, largely driven by the drop in white students in that period.\n",
    "\n",
    "But this year, the drop in enrollment is primarily driven by a drop in Hispanic enrollees, followed by Black enrollees.*\n",
    "\n",
    "*Asterisked because we need to get FTE numbers for 2019! \n",
    "\n",
    "The drop in Hispanic enrollment at present comes after a decade comprising mostly of increases in their enrollment. The drop in Black enrollment at present comes after decreases in enrollment in recent years."
   ]
  },
  {
   "cell_type": "markdown",
   "metadata": {},
   "source": [
    "# Tools"
   ]
  },
  {
   "cell_type": "code",
   "execution_count": 214,
   "metadata": {},
   "outputs": [],
   "source": [
    "import pandas as pd"
   ]
  },
  {
   "cell_type": "markdown",
   "metadata": {},
   "source": [
    "# Read race data and clean it"
   ]
  },
  {
   "cell_type": "markdown",
   "metadata": {},
   "source": [
    "Only from 2010 onwards bc the categories avaliable changed with the 2010 census. "
   ]
  },
  {
   "cell_type": "code",
   "execution_count": 246,
   "metadata": {},
   "outputs": [],
   "source": [
    "df = pd.read_csv('community_colleges_race_gender.csv')"
   ]
  },
  {
   "cell_type": "code",
   "execution_count": 247,
   "metadata": {},
   "outputs": [
    {
     "data": {
      "text/html": [
       "<div>\n",
       "<style scoped>\n",
       "    .dataframe tbody tr th:only-of-type {\n",
       "        vertical-align: middle;\n",
       "    }\n",
       "\n",
       "    .dataframe tbody tr th {\n",
       "        vertical-align: top;\n",
       "    }\n",
       "\n",
       "    .dataframe thead th {\n",
       "        text-align: right;\n",
       "    }\n",
       "</style>\n",
       "<table border=\"1\" class=\"dataframe\">\n",
       "  <thead>\n",
       "    <tr style=\"text-align: right;\">\n",
       "      <th></th>\n",
       "      <th>UnitID</th>\n",
       "      <th>Institution Name</th>\n",
       "      <th>Grand total (EF2018A  Full-time students total)</th>\n",
       "      <th>Asian total (EF2018A  Full-time students total)</th>\n",
       "      <th>Hispanic total (EF2018A  Full-time students total)</th>\n",
       "      <th>Native Hawaiian or Other Pacific Islander total (EF2018A  Full-time students total)</th>\n",
       "      <th>White total (EF2018A  Full-time students total)</th>\n",
       "      <th>Black or African American total (EF2018A  Full-time students total)</th>\n",
       "      <th>Grand total (EF2017A_RV  Full-time students total)</th>\n",
       "      <th>Asian total (EF2017A_RV  Full-time students total)</th>\n",
       "      <th>...</th>\n",
       "      <th>Native Hawaiian or Other Pacific Islander total (EF2011A_RV  Full-time students total)</th>\n",
       "      <th>White total (EF2011A_RV  Full-time students total)</th>\n",
       "      <th>Black or African American total (EF2011A_RV  Full-time students total)</th>\n",
       "      <th>Grand total (EF2010A_RV  Full-time students total)</th>\n",
       "      <th>Asian total (EF2010A_RV  Full-time students total)</th>\n",
       "      <th>Hispanic total (EF2010A_RV  Full-time students total)</th>\n",
       "      <th>Native Hawaiian or Other Pacific Islander total (EF2010A_RV  Full-time students total)</th>\n",
       "      <th>White total (EF2010A_RV  Full-time students total)</th>\n",
       "      <th>Black or African American total (EF2010A_RV  Full-time students total)</th>\n",
       "      <th>Unnamed: 56</th>\n",
       "    </tr>\n",
       "  </thead>\n",
       "  <tbody>\n",
       "    <tr>\n",
       "      <th>0</th>\n",
       "      <td>128577</td>\n",
       "      <td>Asnuntuck Community College</td>\n",
       "      <td>621</td>\n",
       "      <td>12</td>\n",
       "      <td>91</td>\n",
       "      <td>2</td>\n",
       "      <td>396</td>\n",
       "      <td>90</td>\n",
       "      <td>676</td>\n",
       "      <td>15</td>\n",
       "      <td>...</td>\n",
       "      <td>1</td>\n",
       "      <td>516</td>\n",
       "      <td>45</td>\n",
       "      <td>688</td>\n",
       "      <td>19</td>\n",
       "      <td>43</td>\n",
       "      <td>0</td>\n",
       "      <td>552</td>\n",
       "      <td>42</td>\n",
       "      <td>NaN</td>\n",
       "    </tr>\n",
       "    <tr>\n",
       "      <th>1</th>\n",
       "      <td>129367</td>\n",
       "      <td>Capital Community College</td>\n",
       "      <td>654</td>\n",
       "      <td>33</td>\n",
       "      <td>221</td>\n",
       "      <td>1</td>\n",
       "      <td>81</td>\n",
       "      <td>266</td>\n",
       "      <td>690</td>\n",
       "      <td>30</td>\n",
       "      <td>...</td>\n",
       "      <td>0</td>\n",
       "      <td>142</td>\n",
       "      <td>490</td>\n",
       "      <td>1317</td>\n",
       "      <td>40</td>\n",
       "      <td>387</td>\n",
       "      <td>0</td>\n",
       "      <td>196</td>\n",
       "      <td>554</td>\n",
       "      <td>NaN</td>\n",
       "    </tr>\n",
       "    <tr>\n",
       "      <th>2</th>\n",
       "      <td>130396</td>\n",
       "      <td>Gateway Community College</td>\n",
       "      <td>2069</td>\n",
       "      <td>98</td>\n",
       "      <td>625</td>\n",
       "      <td>5</td>\n",
       "      <td>707</td>\n",
       "      <td>469</td>\n",
       "      <td>2179</td>\n",
       "      <td>96</td>\n",
       "      <td>...</td>\n",
       "      <td>7</td>\n",
       "      <td>1113</td>\n",
       "      <td>602</td>\n",
       "      <td>2553</td>\n",
       "      <td>87</td>\n",
       "      <td>433</td>\n",
       "      <td>5</td>\n",
       "      <td>1124</td>\n",
       "      <td>551</td>\n",
       "      <td>NaN</td>\n",
       "    </tr>\n",
       "    <tr>\n",
       "      <th>3</th>\n",
       "      <td>129543</td>\n",
       "      <td>Housatonic Community College</td>\n",
       "      <td>1684</td>\n",
       "      <td>51</td>\n",
       "      <td>616</td>\n",
       "      <td>4</td>\n",
       "      <td>449</td>\n",
       "      <td>490</td>\n",
       "      <td>1729</td>\n",
       "      <td>59</td>\n",
       "      <td>...</td>\n",
       "      <td>0</td>\n",
       "      <td>797</td>\n",
       "      <td>584</td>\n",
       "      <td>2348</td>\n",
       "      <td>65</td>\n",
       "      <td>599</td>\n",
       "      <td>3</td>\n",
       "      <td>906</td>\n",
       "      <td>565</td>\n",
       "      <td>NaN</td>\n",
       "    </tr>\n",
       "    <tr>\n",
       "      <th>4</th>\n",
       "      <td>129695</td>\n",
       "      <td>Manchester Community College</td>\n",
       "      <td>2004</td>\n",
       "      <td>146</td>\n",
       "      <td>411</td>\n",
       "      <td>2</td>\n",
       "      <td>1000</td>\n",
       "      <td>325</td>\n",
       "      <td>1969</td>\n",
       "      <td>115</td>\n",
       "      <td>...</td>\n",
       "      <td>8</td>\n",
       "      <td>1709</td>\n",
       "      <td>338</td>\n",
       "      <td>3213</td>\n",
       "      <td>128</td>\n",
       "      <td>415</td>\n",
       "      <td>6</td>\n",
       "      <td>1973</td>\n",
       "      <td>349</td>\n",
       "      <td>NaN</td>\n",
       "    </tr>\n",
       "    <tr>\n",
       "      <th>5</th>\n",
       "      <td>129756</td>\n",
       "      <td>Middlesex Community College</td>\n",
       "      <td>885</td>\n",
       "      <td>41</td>\n",
       "      <td>174</td>\n",
       "      <td>2</td>\n",
       "      <td>541</td>\n",
       "      <td>71</td>\n",
       "      <td>996</td>\n",
       "      <td>29</td>\n",
       "      <td>...</td>\n",
       "      <td>0</td>\n",
       "      <td>733</td>\n",
       "      <td>90</td>\n",
       "      <td>1186</td>\n",
       "      <td>26</td>\n",
       "      <td>158</td>\n",
       "      <td>2</td>\n",
       "      <td>802</td>\n",
       "      <td>84</td>\n",
       "      <td>NaN</td>\n",
       "    </tr>\n",
       "    <tr>\n",
       "      <th>6</th>\n",
       "      <td>129729</td>\n",
       "      <td>Naugatuck Valley Community College</td>\n",
       "      <td>2181</td>\n",
       "      <td>74</td>\n",
       "      <td>691</td>\n",
       "      <td>2</td>\n",
       "      <td>980</td>\n",
       "      <td>245</td>\n",
       "      <td>2173</td>\n",
       "      <td>61</td>\n",
       "      <td>...</td>\n",
       "      <td>4</td>\n",
       "      <td>1704</td>\n",
       "      <td>232</td>\n",
       "      <td>2951</td>\n",
       "      <td>72</td>\n",
       "      <td>558</td>\n",
       "      <td>1</td>\n",
       "      <td>1823</td>\n",
       "      <td>228</td>\n",
       "      <td>NaN</td>\n",
       "    </tr>\n",
       "    <tr>\n",
       "      <th>7</th>\n",
       "      <td>130040</td>\n",
       "      <td>Northwestern Connecticut Community College</td>\n",
       "      <td>379</td>\n",
       "      <td>6</td>\n",
       "      <td>60</td>\n",
       "      <td>1</td>\n",
       "      <td>288</td>\n",
       "      <td>12</td>\n",
       "      <td>375</td>\n",
       "      <td>13</td>\n",
       "      <td>...</td>\n",
       "      <td>0</td>\n",
       "      <td>426</td>\n",
       "      <td>10</td>\n",
       "      <td>548</td>\n",
       "      <td>1</td>\n",
       "      <td>44</td>\n",
       "      <td>1</td>\n",
       "      <td>447</td>\n",
       "      <td>16</td>\n",
       "      <td>NaN</td>\n",
       "    </tr>\n",
       "    <tr>\n",
       "      <th>8</th>\n",
       "      <td>130004</td>\n",
       "      <td>Norwalk Community College</td>\n",
       "      <td>1737</td>\n",
       "      <td>69</td>\n",
       "      <td>683</td>\n",
       "      <td>3</td>\n",
       "      <td>564</td>\n",
       "      <td>275</td>\n",
       "      <td>2054</td>\n",
       "      <td>99</td>\n",
       "      <td>...</td>\n",
       "      <td>6</td>\n",
       "      <td>840</td>\n",
       "      <td>383</td>\n",
       "      <td>2531</td>\n",
       "      <td>74</td>\n",
       "      <td>677</td>\n",
       "      <td>3</td>\n",
       "      <td>934</td>\n",
       "      <td>393</td>\n",
       "      <td>NaN</td>\n",
       "    </tr>\n",
       "    <tr>\n",
       "      <th>9</th>\n",
       "      <td>130217</td>\n",
       "      <td>Quinebaug Valley Community College</td>\n",
       "      <td>477</td>\n",
       "      <td>5</td>\n",
       "      <td>46</td>\n",
       "      <td>1</td>\n",
       "      <td>400</td>\n",
       "      <td>6</td>\n",
       "      <td>505</td>\n",
       "      <td>8</td>\n",
       "      <td>...</td>\n",
       "      <td>0</td>\n",
       "      <td>457</td>\n",
       "      <td>17</td>\n",
       "      <td>783</td>\n",
       "      <td>8</td>\n",
       "      <td>85</td>\n",
       "      <td>0</td>\n",
       "      <td>575</td>\n",
       "      <td>19</td>\n",
       "      <td>NaN</td>\n",
       "    </tr>\n",
       "    <tr>\n",
       "      <th>10</th>\n",
       "      <td>129808</td>\n",
       "      <td>Three Rivers Community College</td>\n",
       "      <td>1274</td>\n",
       "      <td>55</td>\n",
       "      <td>172</td>\n",
       "      <td>2</td>\n",
       "      <td>816</td>\n",
       "      <td>85</td>\n",
       "      <td>1340</td>\n",
       "      <td>69</td>\n",
       "      <td>...</td>\n",
       "      <td>7</td>\n",
       "      <td>1148</td>\n",
       "      <td>108</td>\n",
       "      <td>1741</td>\n",
       "      <td>58</td>\n",
       "      <td>180</td>\n",
       "      <td>6</td>\n",
       "      <td>1203</td>\n",
       "      <td>99</td>\n",
       "      <td>NaN</td>\n",
       "    </tr>\n",
       "    <tr>\n",
       "      <th>11</th>\n",
       "      <td>130606</td>\n",
       "      <td>Tunxis Community College</td>\n",
       "      <td>1533</td>\n",
       "      <td>58</td>\n",
       "      <td>389</td>\n",
       "      <td>0</td>\n",
       "      <td>840</td>\n",
       "      <td>138</td>\n",
       "      <td>1553</td>\n",
       "      <td>52</td>\n",
       "      <td>...</td>\n",
       "      <td>4</td>\n",
       "      <td>1249</td>\n",
       "      <td>135</td>\n",
       "      <td>2059</td>\n",
       "      <td>54</td>\n",
       "      <td>262</td>\n",
       "      <td>2</td>\n",
       "      <td>1391</td>\n",
       "      <td>129</td>\n",
       "      <td>NaN</td>\n",
       "    </tr>\n",
       "  </tbody>\n",
       "</table>\n",
       "<p>12 rows × 57 columns</p>\n",
       "</div>"
      ],
      "text/plain": [
       "    UnitID                            Institution Name  \\\n",
       "0   128577                 Asnuntuck Community College   \n",
       "1   129367                   Capital Community College   \n",
       "2   130396                   Gateway Community College   \n",
       "3   129543                Housatonic Community College   \n",
       "4   129695                Manchester Community College   \n",
       "5   129756                 Middlesex Community College   \n",
       "6   129729          Naugatuck Valley Community College   \n",
       "7   130040  Northwestern Connecticut Community College   \n",
       "8   130004                   Norwalk Community College   \n",
       "9   130217          Quinebaug Valley Community College   \n",
       "10  129808              Three Rivers Community College   \n",
       "11  130606                    Tunxis Community College   \n",
       "\n",
       "    Grand total (EF2018A  Full-time students total)  \\\n",
       "0                                               621   \n",
       "1                                               654   \n",
       "2                                              2069   \n",
       "3                                              1684   \n",
       "4                                              2004   \n",
       "5                                               885   \n",
       "6                                              2181   \n",
       "7                                               379   \n",
       "8                                              1737   \n",
       "9                                               477   \n",
       "10                                             1274   \n",
       "11                                             1533   \n",
       "\n",
       "    Asian total (EF2018A  Full-time students total)  \\\n",
       "0                                                12   \n",
       "1                                                33   \n",
       "2                                                98   \n",
       "3                                                51   \n",
       "4                                               146   \n",
       "5                                                41   \n",
       "6                                                74   \n",
       "7                                                 6   \n",
       "8                                                69   \n",
       "9                                                 5   \n",
       "10                                               55   \n",
       "11                                               58   \n",
       "\n",
       "    Hispanic total (EF2018A  Full-time students total)  \\\n",
       "0                                                  91    \n",
       "1                                                 221    \n",
       "2                                                 625    \n",
       "3                                                 616    \n",
       "4                                                 411    \n",
       "5                                                 174    \n",
       "6                                                 691    \n",
       "7                                                  60    \n",
       "8                                                 683    \n",
       "9                                                  46    \n",
       "10                                                172    \n",
       "11                                                389    \n",
       "\n",
       "    Native Hawaiian or Other Pacific Islander total (EF2018A  Full-time students total)  \\\n",
       "0                                                   2                                     \n",
       "1                                                   1                                     \n",
       "2                                                   5                                     \n",
       "3                                                   4                                     \n",
       "4                                                   2                                     \n",
       "5                                                   2                                     \n",
       "6                                                   2                                     \n",
       "7                                                   1                                     \n",
       "8                                                   3                                     \n",
       "9                                                   1                                     \n",
       "10                                                  2                                     \n",
       "11                                                  0                                     \n",
       "\n",
       "    White total (EF2018A  Full-time students total)  \\\n",
       "0                                               396   \n",
       "1                                                81   \n",
       "2                                               707   \n",
       "3                                               449   \n",
       "4                                              1000   \n",
       "5                                               541   \n",
       "6                                               980   \n",
       "7                                               288   \n",
       "8                                               564   \n",
       "9                                               400   \n",
       "10                                              816   \n",
       "11                                              840   \n",
       "\n",
       "    Black or African American total (EF2018A  Full-time students total)  \\\n",
       "0                                                  90                     \n",
       "1                                                 266                     \n",
       "2                                                 469                     \n",
       "3                                                 490                     \n",
       "4                                                 325                     \n",
       "5                                                  71                     \n",
       "6                                                 245                     \n",
       "7                                                  12                     \n",
       "8                                                 275                     \n",
       "9                                                   6                     \n",
       "10                                                 85                     \n",
       "11                                                138                     \n",
       "\n",
       "    Grand total (EF2017A_RV  Full-time students total)  \\\n",
       "0                                                 676    \n",
       "1                                                 690    \n",
       "2                                                2179    \n",
       "3                                                1729    \n",
       "4                                                1969    \n",
       "5                                                 996    \n",
       "6                                                2173    \n",
       "7                                                 375    \n",
       "8                                                2054    \n",
       "9                                                 505    \n",
       "10                                               1340    \n",
       "11                                               1553    \n",
       "\n",
       "    Asian total (EF2017A_RV  Full-time students total)  ...  \\\n",
       "0                                                  15   ...   \n",
       "1                                                  30   ...   \n",
       "2                                                  96   ...   \n",
       "3                                                  59   ...   \n",
       "4                                                 115   ...   \n",
       "5                                                  29   ...   \n",
       "6                                                  61   ...   \n",
       "7                                                  13   ...   \n",
       "8                                                  99   ...   \n",
       "9                                                   8   ...   \n",
       "10                                                 69   ...   \n",
       "11                                                 52   ...   \n",
       "\n",
       "    Native Hawaiian or Other Pacific Islander total (EF2011A_RV  Full-time students total)  \\\n",
       "0                                                   1                                        \n",
       "1                                                   0                                        \n",
       "2                                                   7                                        \n",
       "3                                                   0                                        \n",
       "4                                                   8                                        \n",
       "5                                                   0                                        \n",
       "6                                                   4                                        \n",
       "7                                                   0                                        \n",
       "8                                                   6                                        \n",
       "9                                                   0                                        \n",
       "10                                                  7                                        \n",
       "11                                                  4                                        \n",
       "\n",
       "    White total (EF2011A_RV  Full-time students total)  \\\n",
       "0                                                 516    \n",
       "1                                                 142    \n",
       "2                                                1113    \n",
       "3                                                 797    \n",
       "4                                                1709    \n",
       "5                                                 733    \n",
       "6                                                1704    \n",
       "7                                                 426    \n",
       "8                                                 840    \n",
       "9                                                 457    \n",
       "10                                               1148    \n",
       "11                                               1249    \n",
       "\n",
       "    Black or African American total (EF2011A_RV  Full-time students total)  \\\n",
       "0                                                  45                        \n",
       "1                                                 490                        \n",
       "2                                                 602                        \n",
       "3                                                 584                        \n",
       "4                                                 338                        \n",
       "5                                                  90                        \n",
       "6                                                 232                        \n",
       "7                                                  10                        \n",
       "8                                                 383                        \n",
       "9                                                  17                        \n",
       "10                                                108                        \n",
       "11                                                135                        \n",
       "\n",
       "    Grand total (EF2010A_RV  Full-time students total)  \\\n",
       "0                                                 688    \n",
       "1                                                1317    \n",
       "2                                                2553    \n",
       "3                                                2348    \n",
       "4                                                3213    \n",
       "5                                                1186    \n",
       "6                                                2951    \n",
       "7                                                 548    \n",
       "8                                                2531    \n",
       "9                                                 783    \n",
       "10                                               1741    \n",
       "11                                               2059    \n",
       "\n",
       "    Asian total (EF2010A_RV  Full-time students total)  \\\n",
       "0                                                  19    \n",
       "1                                                  40    \n",
       "2                                                  87    \n",
       "3                                                  65    \n",
       "4                                                 128    \n",
       "5                                                  26    \n",
       "6                                                  72    \n",
       "7                                                   1    \n",
       "8                                                  74    \n",
       "9                                                   8    \n",
       "10                                                 58    \n",
       "11                                                 54    \n",
       "\n",
       "    Hispanic total (EF2010A_RV  Full-time students total)  \\\n",
       "0                                                  43       \n",
       "1                                                 387       \n",
       "2                                                 433       \n",
       "3                                                 599       \n",
       "4                                                 415       \n",
       "5                                                 158       \n",
       "6                                                 558       \n",
       "7                                                  44       \n",
       "8                                                 677       \n",
       "9                                                  85       \n",
       "10                                                180       \n",
       "11                                                262       \n",
       "\n",
       "    Native Hawaiian or Other Pacific Islander total (EF2010A_RV  Full-time students total)  \\\n",
       "0                                                   0                                        \n",
       "1                                                   0                                        \n",
       "2                                                   5                                        \n",
       "3                                                   3                                        \n",
       "4                                                   6                                        \n",
       "5                                                   2                                        \n",
       "6                                                   1                                        \n",
       "7                                                   1                                        \n",
       "8                                                   3                                        \n",
       "9                                                   0                                        \n",
       "10                                                  6                                        \n",
       "11                                                  2                                        \n",
       "\n",
       "    White total (EF2010A_RV  Full-time students total)  \\\n",
       "0                                                 552    \n",
       "1                                                 196    \n",
       "2                                                1124    \n",
       "3                                                 906    \n",
       "4                                                1973    \n",
       "5                                                 802    \n",
       "6                                                1823    \n",
       "7                                                 447    \n",
       "8                                                 934    \n",
       "9                                                 575    \n",
       "10                                               1203    \n",
       "11                                               1391    \n",
       "\n",
       "    Black or African American total (EF2010A_RV  Full-time students total)  \\\n",
       "0                                                  42                        \n",
       "1                                                 554                        \n",
       "2                                                 551                        \n",
       "3                                                 565                        \n",
       "4                                                 349                        \n",
       "5                                                  84                        \n",
       "6                                                 228                        \n",
       "7                                                  16                        \n",
       "8                                                 393                        \n",
       "9                                                  19                        \n",
       "10                                                 99                        \n",
       "11                                                129                        \n",
       "\n",
       "    Unnamed: 56  \n",
       "0           NaN  \n",
       "1           NaN  \n",
       "2           NaN  \n",
       "3           NaN  \n",
       "4           NaN  \n",
       "5           NaN  \n",
       "6           NaN  \n",
       "7           NaN  \n",
       "8           NaN  \n",
       "9           NaN  \n",
       "10          NaN  \n",
       "11          NaN  \n",
       "\n",
       "[12 rows x 57 columns]"
      ]
     },
     "execution_count": 247,
     "metadata": {},
     "output_type": "execute_result"
    }
   ],
   "source": [
    "df"
   ]
  },
  {
   "cell_type": "code",
   "execution_count": 248,
   "metadata": {},
   "outputs": [],
   "source": [
    "new_df = df.melt(id_vars=['Institution Name', 'UnitID'])"
   ]
  },
  {
   "cell_type": "code",
   "execution_count": 249,
   "metadata": {},
   "outputs": [],
   "source": [
    "new_df['Year'] = new_df.variable.str.extract(r'.*EF(\\d\\d\\d\\d)').astype(float)"
   ]
  },
  {
   "cell_type": "code",
   "execution_count": 250,
   "metadata": {},
   "outputs": [
    {
     "data": {
      "text/html": [
       "<div>\n",
       "<style scoped>\n",
       "    .dataframe tbody tr th:only-of-type {\n",
       "        vertical-align: middle;\n",
       "    }\n",
       "\n",
       "    .dataframe tbody tr th {\n",
       "        vertical-align: top;\n",
       "    }\n",
       "\n",
       "    .dataframe thead th {\n",
       "        text-align: right;\n",
       "    }\n",
       "</style>\n",
       "<table border=\"1\" class=\"dataframe\">\n",
       "  <thead>\n",
       "    <tr style=\"text-align: right;\">\n",
       "      <th></th>\n",
       "      <th>Institution Name</th>\n",
       "      <th>UnitID</th>\n",
       "      <th>variable</th>\n",
       "      <th>value</th>\n",
       "      <th>Year</th>\n",
       "    </tr>\n",
       "  </thead>\n",
       "  <tbody>\n",
       "    <tr>\n",
       "      <th>0</th>\n",
       "      <td>Asnuntuck Community College</td>\n",
       "      <td>128577</td>\n",
       "      <td>Grand total (EF2018A  Full-time students total)</td>\n",
       "      <td>621.0</td>\n",
       "      <td>2018.0</td>\n",
       "    </tr>\n",
       "    <tr>\n",
       "      <th>1</th>\n",
       "      <td>Capital Community College</td>\n",
       "      <td>129367</td>\n",
       "      <td>Grand total (EF2018A  Full-time students total)</td>\n",
       "      <td>654.0</td>\n",
       "      <td>2018.0</td>\n",
       "    </tr>\n",
       "    <tr>\n",
       "      <th>2</th>\n",
       "      <td>Gateway Community College</td>\n",
       "      <td>130396</td>\n",
       "      <td>Grand total (EF2018A  Full-time students total)</td>\n",
       "      <td>2069.0</td>\n",
       "      <td>2018.0</td>\n",
       "    </tr>\n",
       "    <tr>\n",
       "      <th>3</th>\n",
       "      <td>Housatonic Community College</td>\n",
       "      <td>129543</td>\n",
       "      <td>Grand total (EF2018A  Full-time students total)</td>\n",
       "      <td>1684.0</td>\n",
       "      <td>2018.0</td>\n",
       "    </tr>\n",
       "    <tr>\n",
       "      <th>4</th>\n",
       "      <td>Manchester Community College</td>\n",
       "      <td>129695</td>\n",
       "      <td>Grand total (EF2018A  Full-time students total)</td>\n",
       "      <td>2004.0</td>\n",
       "      <td>2018.0</td>\n",
       "    </tr>\n",
       "    <tr>\n",
       "      <th>...</th>\n",
       "      <td>...</td>\n",
       "      <td>...</td>\n",
       "      <td>...</td>\n",
       "      <td>...</td>\n",
       "      <td>...</td>\n",
       "    </tr>\n",
       "    <tr>\n",
       "      <th>67</th>\n",
       "      <td>Northwestern Connecticut Community College</td>\n",
       "      <td>130040</td>\n",
       "      <td>Black or African American total (EF2018A  Full...</td>\n",
       "      <td>12.0</td>\n",
       "      <td>2018.0</td>\n",
       "    </tr>\n",
       "    <tr>\n",
       "      <th>68</th>\n",
       "      <td>Norwalk Community College</td>\n",
       "      <td>130004</td>\n",
       "      <td>Black or African American total (EF2018A  Full...</td>\n",
       "      <td>275.0</td>\n",
       "      <td>2018.0</td>\n",
       "    </tr>\n",
       "    <tr>\n",
       "      <th>69</th>\n",
       "      <td>Quinebaug Valley Community College</td>\n",
       "      <td>130217</td>\n",
       "      <td>Black or African American total (EF2018A  Full...</td>\n",
       "      <td>6.0</td>\n",
       "      <td>2018.0</td>\n",
       "    </tr>\n",
       "    <tr>\n",
       "      <th>70</th>\n",
       "      <td>Three Rivers Community College</td>\n",
       "      <td>129808</td>\n",
       "      <td>Black or African American total (EF2018A  Full...</td>\n",
       "      <td>85.0</td>\n",
       "      <td>2018.0</td>\n",
       "    </tr>\n",
       "    <tr>\n",
       "      <th>71</th>\n",
       "      <td>Tunxis Community College</td>\n",
       "      <td>130606</td>\n",
       "      <td>Black or African American total (EF2018A  Full...</td>\n",
       "      <td>138.0</td>\n",
       "      <td>2018.0</td>\n",
       "    </tr>\n",
       "  </tbody>\n",
       "</table>\n",
       "<p>72 rows × 5 columns</p>\n",
       "</div>"
      ],
      "text/plain": [
       "                              Institution Name  UnitID  \\\n",
       "0                  Asnuntuck Community College  128577   \n",
       "1                    Capital Community College  129367   \n",
       "2                    Gateway Community College  130396   \n",
       "3                 Housatonic Community College  129543   \n",
       "4                 Manchester Community College  129695   \n",
       "..                                         ...     ...   \n",
       "67  Northwestern Connecticut Community College  130040   \n",
       "68                   Norwalk Community College  130004   \n",
       "69          Quinebaug Valley Community College  130217   \n",
       "70              Three Rivers Community College  129808   \n",
       "71                    Tunxis Community College  130606   \n",
       "\n",
       "                                             variable   value    Year  \n",
       "0     Grand total (EF2018A  Full-time students total)   621.0  2018.0  \n",
       "1     Grand total (EF2018A  Full-time students total)   654.0  2018.0  \n",
       "2     Grand total (EF2018A  Full-time students total)  2069.0  2018.0  \n",
       "3     Grand total (EF2018A  Full-time students total)  1684.0  2018.0  \n",
       "4     Grand total (EF2018A  Full-time students total)  2004.0  2018.0  \n",
       "..                                                ...     ...     ...  \n",
       "67  Black or African American total (EF2018A  Full...    12.0  2018.0  \n",
       "68  Black or African American total (EF2018A  Full...   275.0  2018.0  \n",
       "69  Black or African American total (EF2018A  Full...     6.0  2018.0  \n",
       "70  Black or African American total (EF2018A  Full...    85.0  2018.0  \n",
       "71  Black or African American total (EF2018A  Full...   138.0  2018.0  \n",
       "\n",
       "[72 rows x 5 columns]"
      ]
     },
     "execution_count": 250,
     "metadata": {},
     "output_type": "execute_result"
    }
   ],
   "source": [
    "new_df[new_df['Year']==2018]"
   ]
  },
  {
   "cell_type": "markdown",
   "metadata": {},
   "source": [
    "# Asian"
   ]
  },
  {
   "cell_type": "code",
   "execution_count": 251,
   "metadata": {},
   "outputs": [],
   "source": [
    "df_asian = pd.DataFrame(new_df[new_df['variable'].str.contains('Asian total')==True].groupby(by='Year')['value'].sum()).rename(columns = \n",
    "                                                                                                                   {\n",
    "                                                                                                                       'value': 'Asian total'})\n",
    "df_asian.to_csv('asian_enrollment.csv')                                                                                                                   "
   ]
  },
  {
   "cell_type": "code",
   "execution_count": 252,
   "metadata": {},
   "outputs": [
    {
     "data": {
      "text/plain": [
       "<AxesSubplot:xlabel='Year'>"
      ]
     },
     "execution_count": 252,
     "metadata": {},
     "output_type": "execute_result"
    },
    {
     "data": {
      "image/png": "[encoded data removed]",
      "text/plain": [
       "<Figure size 432x288 with 1 Axes>"
      ]
     },
     "metadata": {
      "needs_background": "light"
     },
     "output_type": "display_data"
    }
   ],
   "source": [
    "new_df[new_df['variable'].str.contains('Asian total')==True].groupby(by='Year')['value'].sum().plot(kind='bar')"
   ]
  },
  {
   "cell_type": "markdown",
   "metadata": {},
   "source": [
    "# White"
   ]
  },
  {
   "cell_type": "code",
   "execution_count": 253,
   "metadata": {},
   "outputs": [],
   "source": [
    "df_white = pd.DataFrame(new_df[new_df['variable'].str.contains('White total')==True].groupby(by='Year')['value'].sum()).rename(columns = \n",
    "                                                                                                                   {\n",
    "                                                                                                                       'value': 'White total'})\n",
    "\n",
    "df_white.to_csv('white_enrollment.csv')                                                        "
   ]
  },
  {
   "cell_type": "code",
   "execution_count": 254,
   "metadata": {},
   "outputs": [
    {
     "data": {
      "text/plain": [
       "<AxesSubplot:xlabel='Year'>"
      ]
     },
     "execution_count": 254,
     "metadata": {},
     "output_type": "execute_result"
    },
    {
     "data": {
      "image/png": "[encoded data removed]",
      "text/plain": [
       "<Figure size 432x288 with 1 Axes>"
      ]
     },
     "metadata": {
      "needs_background": "light"
     },
     "output_type": "display_data"
    }
   ],
   "source": [
    "new_df[new_df['variable'].str.contains('White total')==True].groupby(by='Year')['value'].sum().plot(kind='bar')"
   ]
  },
  {
   "cell_type": "markdown",
   "metadata": {},
   "source": [
    "# Black"
   ]
  },
  {
   "cell_type": "code",
   "execution_count": 255,
   "metadata": {},
   "outputs": [],
   "source": [
    "df_black = pd.DataFrame(new_df[new_df['variable'].str.contains('African American total')==True].groupby(by='Year')['value'].sum()).rename(columns = \n",
    "                                                                                                                   {\n",
    "                                                                                                                       'value': 'Black total'})\n",
    "\n",
    "df_black.to_csv('black_enrollment.csv')                                                        "
   ]
  },
  {
   "cell_type": "code",
   "execution_count": 256,
   "metadata": {},
   "outputs": [
    {
     "data": {
      "text/plain": [
       "<AxesSubplot:xlabel='Year'>"
      ]
     },
     "execution_count": 256,
     "metadata": {},
     "output_type": "execute_result"
    },
    {
     "data": {
      "image/png": "[encoded data removed]",
      "text/plain": [
       "<Figure size 432x288 with 1 Axes>"
      ]
     },
     "metadata": {
      "needs_background": "light"
     },
     "output_type": "display_data"
    }
   ],
   "source": [
    "new_df[new_df['variable'].str.contains('African American total')==True].groupby(by='Year')['value'].sum().plot(kind='bar')"
   ]
  },
  {
   "cell_type": "markdown",
   "metadata": {},
   "source": [
    "# Hispanic"
   ]
  },
  {
   "cell_type": "code",
   "execution_count": 257,
   "metadata": {},
   "outputs": [],
   "source": [
    "df_hisp = pd.DataFrame(new_df[new_df['variable'].str.contains('Hispanic total')==True].groupby(by='Year')['value'].sum()).rename(columns = \n",
    "                                                                                                                   {\n",
    "                                                                                                                       'value': 'Hispanic total'})\n",
    "\n",
    "df_hisp.to_csv('hisp_enrollment.csv')                                                        "
   ]
  },
  {
   "cell_type": "code",
   "execution_count": 258,
   "metadata": {},
   "outputs": [
    {
     "data": {
      "text/plain": [
       "<AxesSubplot:xlabel='Year'>"
      ]
     },
     "execution_count": 258,
     "metadata": {},
     "output_type": "execute_result"
    },
    {
     "data": {
      "image/png": "[encoded data removed]",
      "text/plain": [
       "<Figure size 432x288 with 1 Axes>"
      ]
     },
     "metadata": {
      "needs_background": "light"
     },
     "output_type": "display_data"
    }
   ],
   "source": [
    "new_df[new_df['variable'].str.contains('Hispanic total')==True].groupby(by='Year')['value'].sum().plot(kind='bar')"
   ]
  },
  {
   "cell_type": "markdown",
   "metadata": {},
   "source": [
    "# Further cleaning"
   ]
  },
  {
   "cell_type": "markdown",
   "metadata": {},
   "source": [
    "Added 2019 data from https://www.ct.edu/files/opr/WEB%20Enrollment-by-Race-Ethnicity-through-F2019.pdf essentially manually bc easier than scraping"
   ]
  },
  {
   "cell_type": "markdown",
   "metadata": {},
   "source": [
    "# Calculating percentages"
   ]
  },
  {
   "cell_type": "code",
   "execution_count": 259,
   "metadata": {},
   "outputs": [],
   "source": [
    "df_all = pd.DataFrame(new_df[new_df['variable'].str.contains('Grand total')==True].groupby(by='Year')['value'].sum()).rename(columns = \n",
    "                                                                                                                   {\n",
    "                                                                                                                       'value': 'total'})\n",
    "\n",
    "df_all.to_csv('all_enrollment.csv')                                                        "
   ]
  },
  {
   "cell_type": "code",
   "execution_count": 260,
   "metadata": {},
   "outputs": [
    {
     "data": {
      "text/plain": [
       "<AxesSubplot:xlabel='Year'>"
      ]
     },
     "execution_count": 260,
     "metadata": {},
     "output_type": "execute_result"
    },
    {
     "data": {
      "image/png": "[encoded data removed]",
      "text/plain": [
       "<Figure size 432x288 with 1 Axes>"
      ]
     },
     "metadata": {
      "needs_background": "light"
     },
     "output_type": "display_data"
    }
   ],
   "source": [
    "new_df[new_df['variable'].str.contains('Grand total')==True].groupby(by='Year')['value'].sum().plot(kind='bar')"
   ]
  },
  {
   "cell_type": "code",
   "execution_count": 261,
   "metadata": {},
   "outputs": [],
   "source": [
    "df_asian = pd.read_csv('asian_enrollment.csv')"
   ]
  },
  {
   "cell_type": "code",
   "execution_count": 262,
   "metadata": {},
   "outputs": [],
   "source": [
    "df_white = pd.read_csv('white_enrollment.csv')"
   ]
  },
  {
   "cell_type": "code",
   "execution_count": 263,
   "metadata": {},
   "outputs": [],
   "source": [
    "df_black = pd.read_csv('black_enrollment.csv')"
   ]
  },
  {
   "cell_type": "code",
   "execution_count": 264,
   "metadata": {},
   "outputs": [],
   "source": [
    "df_hisp = pd.read_csv('hisp_enrollment.csv')"
   ]
  },
  {
   "cell_type": "code",
   "execution_count": 265,
   "metadata": {},
   "outputs": [],
   "source": [
    "df_all = pd.read_csv('all_enrollment.csv')"
   ]
  },
  {
   "cell_type": "code",
   "execution_count": 266,
   "metadata": {},
   "outputs": [],
   "source": [
    "df_asian = df_asian.merge(df_all, left_on='Year', right_on='Year')"
   ]
  },
  {
   "cell_type": "code",
   "execution_count": 267,
   "metadata": {},
   "outputs": [],
   "source": [
    "df_white = df_white.merge(df_all, left_on='Year', right_on='Year')"
   ]
  },
  {
   "cell_type": "code",
   "execution_count": 268,
   "metadata": {},
   "outputs": [],
   "source": [
    "df_black = df_black.merge(df_all, left_on='Year', right_on='Year')"
   ]
  },
  {
   "cell_type": "code",
   "execution_count": 269,
   "metadata": {},
   "outputs": [],
   "source": [
    "df_hisp = df_hisp.merge(df_all, left_on='Year', right_on='Year')"
   ]
  },
  {
   "cell_type": "code",
   "execution_count": 270,
   "metadata": {},
   "outputs": [],
   "source": [
    "df_asian['%_asian'] = 100*df_asian['Asian total']/df_asian['total']"
   ]
  },
  {
   "cell_type": "code",
   "execution_count": 271,
   "metadata": {},
   "outputs": [],
   "source": [
    "df_white['%_white'] = 100*df_white['White total']/df_white['total']"
   ]
  },
  {
   "cell_type": "code",
   "execution_count": 272,
   "metadata": {},
   "outputs": [],
   "source": [
    "df_black['%_black'] = 100*df_black['Black total']/df_black['total']"
   ]
  },
  {
   "cell_type": "code",
   "execution_count": 273,
   "metadata": {},
   "outputs": [],
   "source": [
    "df_hisp['%_hisp'] = 100*df_hisp['Hispanic total']/df_hisp['total']"
   ]
  },
  {
   "cell_type": "code",
   "execution_count": 274,
   "metadata": {},
   "outputs": [],
   "source": [
    "df_final_2 = df_asian.merge(df_white, left_on='Year', right_on='Year').merge(df_black, left_on='Year', right_on='Year').merge(df_hisp, left_on='Year', right_on='Year')"
   ]
  },
  {
   "cell_type": "code",
   "execution_count": 275,
   "metadata": {},
   "outputs": [],
   "source": [
    "df_final = df_final_2[['Year','%_white', '%_black', '%_hisp', '%_asian']]"
   ]
  },
  {
   "cell_type": "markdown",
   "metadata": {},
   "source": [
    "# Racial composition over time"
   ]
  },
  {
   "cell_type": "code",
   "execution_count": 276,
   "metadata": {},
   "outputs": [
    {
     "data": {
      "text/plain": [
       "[<matplotlib.axis.XTick at 0x114165390>,\n",
       " <matplotlib.axis.XTick at 0x114160f28>,\n",
       " <matplotlib.axis.XTick at 0x114282d68>,\n",
       " <matplotlib.axis.XTick at 0x11429c048>,\n",
       " <matplotlib.axis.XTick at 0x11429c438>,\n",
       " <matplotlib.axis.XTick at 0x11429c8d0>,\n",
       " <matplotlib.axis.XTick at 0x11429cb38>,\n",
       " <matplotlib.axis.XTick at 0x11429ce10>,\n",
       " <matplotlib.axis.XTick at 0x1142a72e8>,\n",
       " <matplotlib.axis.XTick at 0x1142a7780>]"
      ]
     },
     "execution_count": 276,
     "metadata": {},
     "output_type": "execute_result"
    },
    {
     "data": {
      "image/png": "[encoded data removed]",
      "text/plain": [
       "<Figure size 432x288 with 1 Axes>"
      ]
     },
     "metadata": {
      "needs_background": "light"
     },
     "output_type": "display_data"
    }
   ],
   "source": [
    "ax = df_final.plot.area(x='Year')\n",
    "ax.set_xticks([2010, 2011, 2012, 2013, 2014, 2015, 2016, 2017, 2018,2019])"
   ]
  },
  {
   "cell_type": "code",
   "execution_count": 277,
   "metadata": {},
   "outputs": [
    {
     "data": {
      "text/html": [
       "<div>\n",
       "<style scoped>\n",
       "    .dataframe tbody tr th:only-of-type {\n",
       "        vertical-align: middle;\n",
       "    }\n",
       "\n",
       "    .dataframe tbody tr th {\n",
       "        vertical-align: top;\n",
       "    }\n",
       "\n",
       "    .dataframe thead th {\n",
       "        text-align: right;\n",
       "    }\n",
       "</style>\n",
       "<table border=\"1\" class=\"dataframe\">\n",
       "  <thead>\n",
       "    <tr style=\"text-align: right;\">\n",
       "      <th></th>\n",
       "      <th>Year</th>\n",
       "      <th>Asian total</th>\n",
       "      <th>%_asian</th>\n",
       "      <th>White total</th>\n",
       "      <th>total</th>\n",
       "      <th>%_white</th>\n",
       "      <th>Black total</th>\n",
       "      <th>%_black</th>\n",
       "      <th>Hispanic total</th>\n",
       "      <th>total</th>\n",
       "      <th>%_hisp</th>\n",
       "    </tr>\n",
       "  </thead>\n",
       "  <tbody>\n",
       "    <tr>\n",
       "      <th>0</th>\n",
       "      <td>2010.0</td>\n",
       "      <td>632.0</td>\n",
       "      <td>2.883475</td>\n",
       "      <td>11926.0</td>\n",
       "      <td>21918.0</td>\n",
       "      <td>54.411899</td>\n",
       "      <td>3029.0</td>\n",
       "      <td>13.819692</td>\n",
       "      <td>3841.0</td>\n",
       "      <td>21918.0</td>\n",
       "      <td>17.524409</td>\n",
       "    </tr>\n",
       "    <tr>\n",
       "      <th>1</th>\n",
       "      <td>2011.0</td>\n",
       "      <td>638.0</td>\n",
       "      <td>3.143012</td>\n",
       "      <td>10834.0</td>\n",
       "      <td>20299.0</td>\n",
       "      <td>53.372087</td>\n",
       "      <td>3034.0</td>\n",
       "      <td>14.946549</td>\n",
       "      <td>3890.0</td>\n",
       "      <td>20299.0</td>\n",
       "      <td>19.163506</td>\n",
       "    </tr>\n",
       "    <tr>\n",
       "      <th>2</th>\n",
       "      <td>2012.0</td>\n",
       "      <td>666.0</td>\n",
       "      <td>3.397959</td>\n",
       "      <td>10386.0</td>\n",
       "      <td>19600.0</td>\n",
       "      <td>52.989796</td>\n",
       "      <td>3000.0</td>\n",
       "      <td>15.306122</td>\n",
       "      <td>4046.0</td>\n",
       "      <td>19600.0</td>\n",
       "      <td>20.642857</td>\n",
       "    </tr>\n",
       "    <tr>\n",
       "      <th>3</th>\n",
       "      <td>2013.0</td>\n",
       "      <td>709.0</td>\n",
       "      <td>3.684457</td>\n",
       "      <td>10077.0</td>\n",
       "      <td>19243.0</td>\n",
       "      <td>52.367095</td>\n",
       "      <td>2971.0</td>\n",
       "      <td>15.439381</td>\n",
       "      <td>4144.0</td>\n",
       "      <td>19243.0</td>\n",
       "      <td>21.535104</td>\n",
       "    </tr>\n",
       "    <tr>\n",
       "      <th>4</th>\n",
       "      <td>2014.0</td>\n",
       "      <td>697.0</td>\n",
       "      <td>3.784341</td>\n",
       "      <td>9285.0</td>\n",
       "      <td>18418.0</td>\n",
       "      <td>50.412640</td>\n",
       "      <td>2894.0</td>\n",
       "      <td>15.712890</td>\n",
       "      <td>4211.0</td>\n",
       "      <td>18418.0</td>\n",
       "      <td>22.863503</td>\n",
       "    </tr>\n",
       "    <tr>\n",
       "      <th>5</th>\n",
       "      <td>2015.0</td>\n",
       "      <td>671.0</td>\n",
       "      <td>3.861871</td>\n",
       "      <td>8536.0</td>\n",
       "      <td>17375.0</td>\n",
       "      <td>49.128058</td>\n",
       "      <td>2709.0</td>\n",
       "      <td>15.591367</td>\n",
       "      <td>4097.0</td>\n",
       "      <td>17375.0</td>\n",
       "      <td>23.579856</td>\n",
       "    </tr>\n",
       "    <tr>\n",
       "      <th>6</th>\n",
       "      <td>2016.0</td>\n",
       "      <td>660.0</td>\n",
       "      <td>4.048831</td>\n",
       "      <td>7705.0</td>\n",
       "      <td>16301.0</td>\n",
       "      <td>47.267039</td>\n",
       "      <td>2468.0</td>\n",
       "      <td>15.140175</td>\n",
       "      <td>4225.0</td>\n",
       "      <td>16301.0</td>\n",
       "      <td>25.918655</td>\n",
       "    </tr>\n",
       "    <tr>\n",
       "      <th>7</th>\n",
       "      <td>2017.0</td>\n",
       "      <td>646.0</td>\n",
       "      <td>3.978077</td>\n",
       "      <td>7489.0</td>\n",
       "      <td>16239.0</td>\n",
       "      <td>46.117372</td>\n",
       "      <td>2571.0</td>\n",
       "      <td>15.832256</td>\n",
       "      <td>4303.0</td>\n",
       "      <td>16239.0</td>\n",
       "      <td>26.497937</td>\n",
       "    </tr>\n",
       "    <tr>\n",
       "      <th>8</th>\n",
       "      <td>2018.0</td>\n",
       "      <td>648.0</td>\n",
       "      <td>4.181185</td>\n",
       "      <td>7062.0</td>\n",
       "      <td>15498.0</td>\n",
       "      <td>45.567170</td>\n",
       "      <td>2472.0</td>\n",
       "      <td>15.950445</td>\n",
       "      <td>4179.0</td>\n",
       "      <td>15498.0</td>\n",
       "      <td>26.964770</td>\n",
       "    </tr>\n",
       "  </tbody>\n",
       "</table>\n",
       "</div>"
      ],
      "text/plain": [
       "     Year  Asian total   %_asian  White total    total    %_white  \\\n",
       "0  2010.0        632.0  2.883475      11926.0  21918.0  54.411899   \n",
       "1  2011.0        638.0  3.143012      10834.0  20299.0  53.372087   \n",
       "2  2012.0        666.0  3.397959      10386.0  19600.0  52.989796   \n",
       "3  2013.0        709.0  3.684457      10077.0  19243.0  52.367095   \n",
       "4  2014.0        697.0  3.784341       9285.0  18418.0  50.412640   \n",
       "5  2015.0        671.0  3.861871       8536.0  17375.0  49.128058   \n",
       "6  2016.0        660.0  4.048831       7705.0  16301.0  47.267039   \n",
       "7  2017.0        646.0  3.978077       7489.0  16239.0  46.117372   \n",
       "8  2018.0        648.0  4.181185       7062.0  15498.0  45.567170   \n",
       "\n",
       "   Black total    %_black  Hispanic total    total     %_hisp  \n",
       "0       3029.0  13.819692          3841.0  21918.0  17.524409  \n",
       "1       3034.0  14.946549          3890.0  20299.0  19.163506  \n",
       "2       3000.0  15.306122          4046.0  19600.0  20.642857  \n",
       "3       2971.0  15.439381          4144.0  19243.0  21.535104  \n",
       "4       2894.0  15.712890          4211.0  18418.0  22.863503  \n",
       "5       2709.0  15.591367          4097.0  17375.0  23.579856  \n",
       "6       2468.0  15.140175          4225.0  16301.0  25.918655  \n",
       "7       2571.0  15.832256          4303.0  16239.0  26.497937  \n",
       "8       2472.0  15.950445          4179.0  15498.0  26.964770  "
      ]
     },
     "execution_count": 277,
     "metadata": {},
     "output_type": "execute_result"
    }
   ],
   "source": [
    "df_final_2.drop(columns={'total_x'}).rename(columns={'total_y':'total'}).drop_duplicates(subset=['total'], keep='last')"
   ]
  },
  {
   "cell_type": "markdown",
   "metadata": {},
   "source": [
    "# % decrease within races"
   ]
  },
  {
   "cell_type": "code",
   "execution_count": 278,
   "metadata": {},
   "outputs": [],
   "source": [
    "#What we know:\n",
    "\n",
    "#!!!!!!! check! about FTE -> revisit this section\n",
    "#17% decline in Black students -> -1353 -> leaves us with 6924 (approx)\n",
    "#16% decline in Latino students -> -1987 -> 10432 (approx)\n",
    "#11% decline overall -> -4966 students -> 40182\n",
    "\n",
    "# => (White population cannot have decreased by more than 13%)\n",
    "# => Decrease in overall enrollment this year is driven by decreased Hispanic enrollees, followed by Black enrollees"
   ]
  },
  {
   "cell_type": "code",
   "execution_count": 279,
   "metadata": {},
   "outputs": [],
   "source": [
    "df_black['pct_change_black'] = 100*df_black['Black total'].pct_change()"
   ]
  },
  {
   "cell_type": "code",
   "execution_count": 280,
   "metadata": {},
   "outputs": [],
   "source": [
    "df_hisp['pct_change_hisp'] = 100*df_hisp['Hispanic total'].pct_change()"
   ]
  },
  {
   "cell_type": "markdown",
   "metadata": {},
   "source": [
    "# Hispanic % change historically"
   ]
  },
  {
   "cell_type": "markdown",
   "metadata": {},
   "source": [
    "Drop in Hispanic enrollment at present comes after a decade comprising mostly of increases in their enrollment."
   ]
  },
  {
   "cell_type": "code",
   "execution_count": 281,
   "metadata": {},
   "outputs": [
    {
     "data": {
      "text/plain": [
       "<AxesSubplot:xlabel='Year'>"
      ]
     },
     "execution_count": 281,
     "metadata": {},
     "output_type": "execute_result"
    },
    {
     "data": {
      "image/png": "[encoded data removed]",
      "text/plain": [
       "<Figure size 432x288 with 1 Axes>"
      ]
     },
     "metadata": {
      "needs_background": "light"
     },
     "output_type": "display_data"
    }
   ],
   "source": [
    "df_hisp.plot(x='Year', y='pct_change_hisp', kind='bar')"
   ]
  },
  {
   "cell_type": "markdown",
   "metadata": {},
   "source": [
    "# Black % change historically"
   ]
  },
  {
   "cell_type": "markdown",
   "metadata": {},
   "source": [
    "Drop in Black enrollment at present comes after drops in enrollment in recent years."
   ]
  },
  {
   "cell_type": "code",
   "execution_count": 213,
   "metadata": {},
   "outputs": [
    {
     "data": {
      "text/plain": [
       "<AxesSubplot:xlabel='Year'>"
      ]
     },
     "execution_count": 213,
     "metadata": {},
     "output_type": "execute_result"
    },
    {
     "data": {
      "image/png": "[encoded data removed]",
      "text/plain": [
       "<Figure size 432x288 with 1 Axes>"
      ]
     },
     "metadata": {
      "needs_background": "light"
     },
     "output_type": "display_data"
    }
   ],
   "source": [
    "df_black.plot(x='Year', y='pct_change_black', kind='bar')"
   ]
  },
  {
   "cell_type": "code",
   "execution_count": null,
   "metadata": {},
   "outputs": [],
   "source": []
  }
 ],
 "metadata": {
  "kernelspec": {
   "display_name": "Python 3",
   "language": "python",
   "name": "python3"
  },
  "language_info": {
   "codemirror_mode": {
    "name": "ipython",
    "version": 3
   },
   "file_extension": ".py",
   "mimetype": "text/x-python",
   "name": "python",
   "nbconvert_exporter": "python",
   "pygments_lexer": "ipython3",
   "version": "3.7.1"
  }
 },
 "nbformat": 4,
 "nbformat_minor": 4
}
